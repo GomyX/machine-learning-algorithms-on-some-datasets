{
 "cells": [
  {
   "cell_type": "markdown",
   "metadata": {
    "id": "SflHIEqKZahE"
   },
   "source": [
    "<h1 align=\"center\">Zewail City of Science and Technology</h1>\n",
    "<h2 align=\"center\">CIE 417 (Fall 2022)</h2>\n",
    "<h2 align=\"center\">Lab 8: Decision Trees </h2>"
   ]
  },
  {
   "cell_type": "markdown",
   "metadata": {
    "id": "NPpBYbohZahG"
   },
   "source": [
    "## Import the needed libraries"
   ]
  },
  {
   "cell_type": "code",
   "execution_count": 11,
   "metadata": {
    "id": "RIQmcJWKZahG"
   },
   "outputs": [],
   "source": [
    "import numpy as np\n",
    "from collections import Counter\n",
    "from scipy import stats\n",
    "from math import log2, sqrt\n",
    "import pandas as pd\n",
    "from sklearn.model_selection import train_test_split\n",
    "from sklearn.preprocessing import LabelEncoder\n",
    "from sklearn.tree import DecisionTreeClassifier\n",
    "from scipy import stats\n",
    "import seaborn as sns\n",
    "from sklearn import metrics\n",
    "from sklearn import tree\n",
    "from sklearn import preprocessing\n",
    "import matplotlib.pyplot as plt\n",
    "import six\n",
    "\n",
    "from sklearn.tree import export_graphviz\n",
    "from six import StringIO  \n",
    "from IPython.display import Image  \n",
    "import pydotplus\n",
    "from tqdm.notebook import tqdm_notebook as tqdm\n",
    "from sklearn.model_selection import GridSearchCV"
   ]
  },
  {
   "cell_type": "markdown",
   "metadata": {
    "id": "MJaOK2MDZahN"
   },
   "source": [
    "# Exploring the dataset"
   ]
  },
  {
   "cell_type": "markdown",
   "metadata": {
    "id": "sw7HRQwoZahN"
   },
   "source": [
    "## We are going to use a very famous dataset called [Adult Dataset](https://archive.ics.uci.edu/ml/datasets/adult)\n"
   ]
  },
  {
   "cell_type": "markdown",
   "metadata": {
    "id": "UC0xkm7BZahO"
   },
   "source": [
    "The objective of this dataset is to predict whether income exceeds 50,000 dollars per year based on census data. \n",
    "So, we will use the decision tree algorithm to predict if an individual earns more than $50K annually and is therefore eligible for the new credit card.\n"
   ]
  },
  {
   "cell_type": "markdown",
   "metadata": {
    "id": "dObphtdMZahO"
   },
   "source": [
    "You can read more details here:\n",
    "https://cseweb.ucsd.edu/classes/sp15/cse190-c/reports/sp15/048.pdf\n",
    "\n",
    "### Dataset attributes \n",
    "\n",
    "1. age : continuous variable\n",
    "2. state_sample\t: continuous variable\n",
    "3. education_num : continuous variable\n",
    "4. capital_gain : continuous variable\n",
    "5. capital_loss : continuous variable\n",
    "6. hours_per_week : continuous variable\n",
    "7. workclass : categorical variable\n",
    "8. education : categorical variable\n",
    "9. marital_status : categorical variable\n",
    "10. occupation : categorical variable\n",
    "11. relationship\t: categorical variable\n",
    "12. native_country\t: categorical variable\n",
    "13. race : categorical variable\n",
    "14. income \"the label\"\t: categorical variable\n"
   ]
  },
  {
   "cell_type": "markdown",
   "metadata": {
    "id": "ZK8ufVkbZahP"
   },
   "source": [
    "### Load the dataset"
   ]
  },
  {
   "cell_type": "code",
   "execution_count": 25,
   "metadata": {
    "id": "PPf3gf--ZahR",
    "outputId": "4f8e3e42-2a43-4feb-8c02-89008258fedf"
   },
   "outputs": [
    {
     "data": {
      "text/html": [
       "<div>\n",
       "<style scoped>\n",
       "    .dataframe tbody tr th:only-of-type {\n",
       "        vertical-align: middle;\n",
       "    }\n",
       "\n",
       "    .dataframe tbody tr th {\n",
       "        vertical-align: top;\n",
       "    }\n",
       "\n",
       "    .dataframe thead th {\n",
       "        text-align: right;\n",
       "    }\n",
       "</style>\n",
       "<table border=\"1\" class=\"dataframe\">\n",
       "  <thead>\n",
       "    <tr style=\"text-align: right;\">\n",
       "      <th></th>\n",
       "      <th>age</th>\n",
       "      <th>workclass</th>\n",
       "      <th>fnlwgt</th>\n",
       "      <th>education</th>\n",
       "      <th>educational-num</th>\n",
       "      <th>marital-status</th>\n",
       "      <th>occupation</th>\n",
       "      <th>relationship</th>\n",
       "      <th>race</th>\n",
       "      <th>gender</th>\n",
       "      <th>capital-gain</th>\n",
       "      <th>capital-loss</th>\n",
       "      <th>hours-per-week</th>\n",
       "      <th>native-country</th>\n",
       "      <th>income</th>\n",
       "    </tr>\n",
       "  </thead>\n",
       "  <tbody>\n",
       "    <tr>\n",
       "      <th>0</th>\n",
       "      <td>25</td>\n",
       "      <td>Private</td>\n",
       "      <td>226802</td>\n",
       "      <td>11th</td>\n",
       "      <td>7</td>\n",
       "      <td>Never-married</td>\n",
       "      <td>Machine-op-inspct</td>\n",
       "      <td>Own-child</td>\n",
       "      <td>Black</td>\n",
       "      <td>Male</td>\n",
       "      <td>0</td>\n",
       "      <td>0</td>\n",
       "      <td>40</td>\n",
       "      <td>United-States</td>\n",
       "      <td>&lt;=50K</td>\n",
       "    </tr>\n",
       "    <tr>\n",
       "      <th>1</th>\n",
       "      <td>38</td>\n",
       "      <td>Private</td>\n",
       "      <td>89814</td>\n",
       "      <td>HS-grad</td>\n",
       "      <td>9</td>\n",
       "      <td>Married-civ-spouse</td>\n",
       "      <td>Farming-fishing</td>\n",
       "      <td>Husband</td>\n",
       "      <td>White</td>\n",
       "      <td>Male</td>\n",
       "      <td>0</td>\n",
       "      <td>0</td>\n",
       "      <td>50</td>\n",
       "      <td>United-States</td>\n",
       "      <td>&lt;=50K</td>\n",
       "    </tr>\n",
       "    <tr>\n",
       "      <th>2</th>\n",
       "      <td>28</td>\n",
       "      <td>Local-gov</td>\n",
       "      <td>336951</td>\n",
       "      <td>Assoc-acdm</td>\n",
       "      <td>12</td>\n",
       "      <td>Married-civ-spouse</td>\n",
       "      <td>Protective-serv</td>\n",
       "      <td>Husband</td>\n",
       "      <td>White</td>\n",
       "      <td>Male</td>\n",
       "      <td>0</td>\n",
       "      <td>0</td>\n",
       "      <td>40</td>\n",
       "      <td>United-States</td>\n",
       "      <td>&gt;50K</td>\n",
       "    </tr>\n",
       "    <tr>\n",
       "      <th>3</th>\n",
       "      <td>44</td>\n",
       "      <td>Private</td>\n",
       "      <td>160323</td>\n",
       "      <td>Some-college</td>\n",
       "      <td>10</td>\n",
       "      <td>Married-civ-spouse</td>\n",
       "      <td>Machine-op-inspct</td>\n",
       "      <td>Husband</td>\n",
       "      <td>Black</td>\n",
       "      <td>Male</td>\n",
       "      <td>7688</td>\n",
       "      <td>0</td>\n",
       "      <td>40</td>\n",
       "      <td>United-States</td>\n",
       "      <td>&gt;50K</td>\n",
       "    </tr>\n",
       "    <tr>\n",
       "      <th>4</th>\n",
       "      <td>18</td>\n",
       "      <td>?</td>\n",
       "      <td>103497</td>\n",
       "      <td>Some-college</td>\n",
       "      <td>10</td>\n",
       "      <td>Never-married</td>\n",
       "      <td>?</td>\n",
       "      <td>Own-child</td>\n",
       "      <td>White</td>\n",
       "      <td>Female</td>\n",
       "      <td>0</td>\n",
       "      <td>0</td>\n",
       "      <td>30</td>\n",
       "      <td>United-States</td>\n",
       "      <td>&lt;=50K</td>\n",
       "    </tr>\n",
       "  </tbody>\n",
       "</table>\n",
       "</div>"
      ],
      "text/plain": [
       "   age  workclass  fnlwgt     education  educational-num      marital-status  \\\n",
       "0   25    Private  226802          11th                7       Never-married   \n",
       "1   38    Private   89814       HS-grad                9  Married-civ-spouse   \n",
       "2   28  Local-gov  336951    Assoc-acdm               12  Married-civ-spouse   \n",
       "3   44    Private  160323  Some-college               10  Married-civ-spouse   \n",
       "4   18          ?  103497  Some-college               10       Never-married   \n",
       "\n",
       "          occupation relationship   race  gender  capital-gain  capital-loss  \\\n",
       "0  Machine-op-inspct    Own-child  Black    Male             0             0   \n",
       "1    Farming-fishing      Husband  White    Male             0             0   \n",
       "2    Protective-serv      Husband  White    Male             0             0   \n",
       "3  Machine-op-inspct      Husband  Black    Male          7688             0   \n",
       "4                  ?    Own-child  White  Female             0             0   \n",
       "\n",
       "   hours-per-week native-country income  \n",
       "0              40  United-States  <=50K  \n",
       "1              50  United-States  <=50K  \n",
       "2              40  United-States   >50K  \n",
       "3              40  United-States   >50K  \n",
       "4              30  United-States  <=50K  "
      ]
     },
     "execution_count": 25,
     "metadata": {},
     "output_type": "execute_result"
    }
   ],
   "source": [
    "data = pd.read_csv(\"adult.csv\")\n",
    "data.head()"
   ]
  },
  {
   "cell_type": "markdown",
   "metadata": {
    "id": "OwjQong-ZahV"
   },
   "source": [
    "### Describe the dataset"
   ]
  },
  {
   "cell_type": "code",
   "execution_count": 36,
   "metadata": {
    "id": "nQ58WaTZZahW",
    "outputId": "b1f9c0d2-ca5d-41f4-a8f5-6a5c48b13926"
   },
   "outputs": [
    {
     "data": {
      "text/html": [
       "<div>\n",
       "<style scoped>\n",
       "    .dataframe tbody tr th:only-of-type {\n",
       "        vertical-align: middle;\n",
       "    }\n",
       "\n",
       "    .dataframe tbody tr th {\n",
       "        vertical-align: top;\n",
       "    }\n",
       "\n",
       "    .dataframe thead th {\n",
       "        text-align: right;\n",
       "    }\n",
       "</style>\n",
       "<table border=\"1\" class=\"dataframe\">\n",
       "  <thead>\n",
       "    <tr style=\"text-align: right;\">\n",
       "      <th></th>\n",
       "      <th>age</th>\n",
       "      <th>fnlwgt</th>\n",
       "      <th>educational-num</th>\n",
       "      <th>capital-gain</th>\n",
       "      <th>capital-loss</th>\n",
       "      <th>hours-per-week</th>\n",
       "    </tr>\n",
       "  </thead>\n",
       "  <tbody>\n",
       "    <tr>\n",
       "      <th>count</th>\n",
       "      <td>48790.000000</td>\n",
       "      <td>4.879000e+04</td>\n",
       "      <td>48790.000000</td>\n",
       "      <td>48790.000000</td>\n",
       "      <td>48790.000000</td>\n",
       "      <td>48790.000000</td>\n",
       "    </tr>\n",
       "    <tr>\n",
       "      <th>mean</th>\n",
       "      <td>38.652798</td>\n",
       "      <td>1.896690e+05</td>\n",
       "      <td>10.078807</td>\n",
       "      <td>1080.217688</td>\n",
       "      <td>87.595573</td>\n",
       "      <td>40.425886</td>\n",
       "    </tr>\n",
       "    <tr>\n",
       "      <th>std</th>\n",
       "      <td>13.708493</td>\n",
       "      <td>1.056172e+05</td>\n",
       "      <td>2.570046</td>\n",
       "      <td>7455.905921</td>\n",
       "      <td>403.209129</td>\n",
       "      <td>12.392729</td>\n",
       "    </tr>\n",
       "    <tr>\n",
       "      <th>min</th>\n",
       "      <td>17.000000</td>\n",
       "      <td>1.228500e+04</td>\n",
       "      <td>1.000000</td>\n",
       "      <td>0.000000</td>\n",
       "      <td>0.000000</td>\n",
       "      <td>1.000000</td>\n",
       "    </tr>\n",
       "    <tr>\n",
       "      <th>25%</th>\n",
       "      <td>28.000000</td>\n",
       "      <td>1.175550e+05</td>\n",
       "      <td>9.000000</td>\n",
       "      <td>0.000000</td>\n",
       "      <td>0.000000</td>\n",
       "      <td>40.000000</td>\n",
       "    </tr>\n",
       "    <tr>\n",
       "      <th>50%</th>\n",
       "      <td>37.000000</td>\n",
       "      <td>1.781385e+05</td>\n",
       "      <td>10.000000</td>\n",
       "      <td>0.000000</td>\n",
       "      <td>0.000000</td>\n",
       "      <td>40.000000</td>\n",
       "    </tr>\n",
       "    <tr>\n",
       "      <th>75%</th>\n",
       "      <td>48.000000</td>\n",
       "      <td>2.376062e+05</td>\n",
       "      <td>12.000000</td>\n",
       "      <td>0.000000</td>\n",
       "      <td>0.000000</td>\n",
       "      <td>45.000000</td>\n",
       "    </tr>\n",
       "    <tr>\n",
       "      <th>max</th>\n",
       "      <td>90.000000</td>\n",
       "      <td>1.490400e+06</td>\n",
       "      <td>16.000000</td>\n",
       "      <td>99999.000000</td>\n",
       "      <td>4356.000000</td>\n",
       "      <td>99.000000</td>\n",
       "    </tr>\n",
       "  </tbody>\n",
       "</table>\n",
       "</div>"
      ],
      "text/plain": [
       "                age        fnlwgt  educational-num  capital-gain  \\\n",
       "count  48790.000000  4.879000e+04     48790.000000  48790.000000   \n",
       "mean      38.652798  1.896690e+05        10.078807   1080.217688   \n",
       "std       13.708493  1.056172e+05         2.570046   7455.905921   \n",
       "min       17.000000  1.228500e+04         1.000000      0.000000   \n",
       "25%       28.000000  1.175550e+05         9.000000      0.000000   \n",
       "50%       37.000000  1.781385e+05        10.000000      0.000000   \n",
       "75%       48.000000  2.376062e+05        12.000000      0.000000   \n",
       "max       90.000000  1.490400e+06        16.000000  99999.000000   \n",
       "\n",
       "       capital-loss  hours-per-week  \n",
       "count  48790.000000    48790.000000  \n",
       "mean      87.595573       40.425886  \n",
       "std      403.209129       12.392729  \n",
       "min        0.000000        1.000000  \n",
       "25%        0.000000       40.000000  \n",
       "50%        0.000000       40.000000  \n",
       "75%        0.000000       45.000000  \n",
       "max     4356.000000       99.000000  "
      ]
     },
     "execution_count": 36,
     "metadata": {},
     "output_type": "execute_result"
    }
   ],
   "source": [
    "data.describe()"
   ]
  },
  {
   "cell_type": "code",
   "execution_count": 37,
   "metadata": {
    "id": "xW6Qd4hLZahb",
    "outputId": "b1225e0f-ab29-42fc-d040-cfb2735d40d8"
   },
   "outputs": [
    {
     "name": "stdout",
     "output_type": "stream",
     "text": [
      "dataset shape is (48790, 15)\n"
     ]
    }
   ],
   "source": [
    "print(f'dataset shape is {data.shape}')"
   ]
  },
  {
   "cell_type": "code",
   "execution_count": 38,
   "metadata": {},
   "outputs": [
    {
     "name": "stdout",
     "output_type": "stream",
     "text": [
      "There are 0 duplicates in the dataset\n"
     ]
    }
   ],
   "source": [
    "print(\"There are {0} duplicates in the dataset\".format(data.duplicated().sum()))"
   ]
  },
  {
   "cell_type": "code",
   "execution_count": 39,
   "metadata": {},
   "outputs": [
    {
     "data": {
      "text/plain": [
       "0"
      ]
     },
     "execution_count": 39,
     "metadata": {},
     "output_type": "execute_result"
    }
   ],
   "source": [
    "#drop duplicates\n",
    "data.drop_duplicates(inplace=True)\n",
    "#check\n",
    "data.duplicated().sum()"
   ]
  },
  {
   "cell_type": "code",
   "execution_count": 40,
   "metadata": {},
   "outputs": [
    {
     "data": {
      "text/plain": [
       "age                0\n",
       "workclass          0\n",
       "fnlwgt             0\n",
       "education          0\n",
       "educational-num    0\n",
       "marital-status     0\n",
       "occupation         0\n",
       "relationship       0\n",
       "race               0\n",
       "gender             0\n",
       "capital-gain       0\n",
       "capital-loss       0\n",
       "hours-per-week     0\n",
       "native-country     0\n",
       "income             0\n",
       "dtype: int64"
      ]
     },
     "execution_count": 40,
     "metadata": {},
     "output_type": "execute_result"
    }
   ],
   "source": [
    "data.isna().sum() #no null values"
   ]
  },
  {
   "cell_type": "markdown",
   "metadata": {
    "id": "XEnBDMJqZahi"
   },
   "source": [
    "### Which ones are categorical and which are numerical?"
   ]
  },
  {
   "cell_type": "code",
   "execution_count": 41,
   "metadata": {
    "id": "4PVquIb5Zahi",
    "outputId": "8e1898dd-bd14-476f-fc72-a2abe73043a8"
   },
   "outputs": [
    {
     "name": "stdout",
     "output_type": "stream",
     "text": [
      "<class 'pandas.core.frame.DataFrame'>\n",
      "Int64Index: 48790 entries, 0 to 48841\n",
      "Data columns (total 15 columns):\n",
      " #   Column           Non-Null Count  Dtype \n",
      "---  ------           --------------  ----- \n",
      " 0   age              48790 non-null  int64 \n",
      " 1   workclass        48790 non-null  object\n",
      " 2   fnlwgt           48790 non-null  int64 \n",
      " 3   education        48790 non-null  object\n",
      " 4   educational-num  48790 non-null  int64 \n",
      " 5   marital-status   48790 non-null  object\n",
      " 6   occupation       48790 non-null  object\n",
      " 7   relationship     48790 non-null  object\n",
      " 8   race             48790 non-null  object\n",
      " 9   gender           48790 non-null  object\n",
      " 10  capital-gain     48790 non-null  int64 \n",
      " 11  capital-loss     48790 non-null  int64 \n",
      " 12  hours-per-week   48790 non-null  int64 \n",
      " 13  native-country   48790 non-null  object\n",
      " 14  income           48790 non-null  object\n",
      "dtypes: int64(6), object(9)\n",
      "memory usage: 6.0+ MB\n"
     ]
    }
   ],
   "source": [
    "data.info()"
   ]
  },
  {
   "cell_type": "markdown",
   "metadata": {
    "id": "8fq7BGanZahl"
   },
   "source": [
    "## Data Preprocessing and Exploration"
   ]
  },
  {
   "cell_type": "code",
   "execution_count": 48,
   "metadata": {},
   "outputs": [
    {
     "data": {
      "text/html": [
       "<div>\n",
       "<style scoped>\n",
       "    .dataframe tbody tr th:only-of-type {\n",
       "        vertical-align: middle;\n",
       "    }\n",
       "\n",
       "    .dataframe tbody tr th {\n",
       "        vertical-align: top;\n",
       "    }\n",
       "\n",
       "    .dataframe thead th {\n",
       "        text-align: right;\n",
       "    }\n",
       "</style>\n",
       "<table border=\"1\" class=\"dataframe\">\n",
       "  <thead>\n",
       "    <tr style=\"text-align: right;\">\n",
       "      <th></th>\n",
       "      <th>age</th>\n",
       "      <th>workclass</th>\n",
       "      <th>fnlwgt</th>\n",
       "      <th>education</th>\n",
       "      <th>educational-num</th>\n",
       "      <th>marital-status</th>\n",
       "      <th>occupation</th>\n",
       "      <th>relationship</th>\n",
       "      <th>race</th>\n",
       "      <th>gender</th>\n",
       "      <th>capital-gain</th>\n",
       "      <th>capital-loss</th>\n",
       "      <th>hours-per-week</th>\n",
       "      <th>native-country</th>\n",
       "      <th>income</th>\n",
       "    </tr>\n",
       "  </thead>\n",
       "  <tbody>\n",
       "    <tr>\n",
       "      <th>0</th>\n",
       "      <td>25</td>\n",
       "      <td>Private</td>\n",
       "      <td>226802</td>\n",
       "      <td>11th</td>\n",
       "      <td>7</td>\n",
       "      <td>Never-married</td>\n",
       "      <td>Machine-op-inspct</td>\n",
       "      <td>Own-child</td>\n",
       "      <td>Black</td>\n",
       "      <td>Male</td>\n",
       "      <td>0</td>\n",
       "      <td>0</td>\n",
       "      <td>40</td>\n",
       "      <td>United-States</td>\n",
       "      <td>&lt;=50K</td>\n",
       "    </tr>\n",
       "    <tr>\n",
       "      <th>1</th>\n",
       "      <td>38</td>\n",
       "      <td>Private</td>\n",
       "      <td>89814</td>\n",
       "      <td>HS-grad</td>\n",
       "      <td>9</td>\n",
       "      <td>Married-civ-spouse</td>\n",
       "      <td>Farming-fishing</td>\n",
       "      <td>Husband</td>\n",
       "      <td>White</td>\n",
       "      <td>Male</td>\n",
       "      <td>0</td>\n",
       "      <td>0</td>\n",
       "      <td>50</td>\n",
       "      <td>United-States</td>\n",
       "      <td>&lt;=50K</td>\n",
       "    </tr>\n",
       "    <tr>\n",
       "      <th>2</th>\n",
       "      <td>28</td>\n",
       "      <td>Local-gov</td>\n",
       "      <td>336951</td>\n",
       "      <td>Assoc-acdm</td>\n",
       "      <td>12</td>\n",
       "      <td>Married-civ-spouse</td>\n",
       "      <td>Protective-serv</td>\n",
       "      <td>Husband</td>\n",
       "      <td>White</td>\n",
       "      <td>Male</td>\n",
       "      <td>0</td>\n",
       "      <td>0</td>\n",
       "      <td>40</td>\n",
       "      <td>United-States</td>\n",
       "      <td>&gt;50K</td>\n",
       "    </tr>\n",
       "    <tr>\n",
       "      <th>3</th>\n",
       "      <td>44</td>\n",
       "      <td>Private</td>\n",
       "      <td>160323</td>\n",
       "      <td>Some-college</td>\n",
       "      <td>10</td>\n",
       "      <td>Married-civ-spouse</td>\n",
       "      <td>Machine-op-inspct</td>\n",
       "      <td>Husband</td>\n",
       "      <td>Black</td>\n",
       "      <td>Male</td>\n",
       "      <td>7688</td>\n",
       "      <td>0</td>\n",
       "      <td>40</td>\n",
       "      <td>United-States</td>\n",
       "      <td>&gt;50K</td>\n",
       "    </tr>\n",
       "    <tr>\n",
       "      <th>4</th>\n",
       "      <td>18</td>\n",
       "      <td>?</td>\n",
       "      <td>103497</td>\n",
       "      <td>Some-college</td>\n",
       "      <td>10</td>\n",
       "      <td>Never-married</td>\n",
       "      <td>?</td>\n",
       "      <td>Own-child</td>\n",
       "      <td>White</td>\n",
       "      <td>Female</td>\n",
       "      <td>0</td>\n",
       "      <td>0</td>\n",
       "      <td>30</td>\n",
       "      <td>United-States</td>\n",
       "      <td>&lt;=50K</td>\n",
       "    </tr>\n",
       "  </tbody>\n",
       "</table>\n",
       "</div>"
      ],
      "text/plain": [
       "   age  workclass  fnlwgt     education  educational-num      marital-status  \\\n",
       "0   25    Private  226802          11th                7       Never-married   \n",
       "1   38    Private   89814       HS-grad                9  Married-civ-spouse   \n",
       "2   28  Local-gov  336951    Assoc-acdm               12  Married-civ-spouse   \n",
       "3   44    Private  160323  Some-college               10  Married-civ-spouse   \n",
       "4   18          ?  103497  Some-college               10       Never-married   \n",
       "\n",
       "          occupation relationship   race  gender  capital-gain  capital-loss  \\\n",
       "0  Machine-op-inspct    Own-child  Black    Male             0             0   \n",
       "1    Farming-fishing      Husband  White    Male             0             0   \n",
       "2    Protective-serv      Husband  White    Male             0             0   \n",
       "3  Machine-op-inspct      Husband  Black    Male          7688             0   \n",
       "4                  ?    Own-child  White  Female             0             0   \n",
       "\n",
       "   hours-per-week native-country income  \n",
       "0              40  United-States  <=50K  \n",
       "1              50  United-States  <=50K  \n",
       "2              40  United-States   >50K  \n",
       "3              40  United-States   >50K  \n",
       "4              30  United-States  <=50K  "
      ]
     },
     "execution_count": 48,
     "metadata": {},
     "output_type": "execute_result"
    }
   ],
   "source": [
    "data.head()"
   ]
  },
  {
   "cell_type": "code",
   "execution_count": 58,
   "metadata": {},
   "outputs": [
    {
     "data": {
      "text/html": [
       "<div>\n",
       "<style scoped>\n",
       "    .dataframe tbody tr th:only-of-type {\n",
       "        vertical-align: middle;\n",
       "    }\n",
       "\n",
       "    .dataframe tbody tr th {\n",
       "        vertical-align: top;\n",
       "    }\n",
       "\n",
       "    .dataframe thead th {\n",
       "        text-align: right;\n",
       "    }\n",
       "</style>\n",
       "<table border=\"1\" class=\"dataframe\">\n",
       "  <thead>\n",
       "    <tr style=\"text-align: right;\">\n",
       "      <th></th>\n",
       "      <th>age</th>\n",
       "      <th>workclass</th>\n",
       "      <th>fnlwgt</th>\n",
       "      <th>education</th>\n",
       "      <th>educational-num</th>\n",
       "      <th>marital-status</th>\n",
       "      <th>occupation</th>\n",
       "      <th>relationship</th>\n",
       "      <th>race</th>\n",
       "      <th>gender</th>\n",
       "      <th>capital-gain</th>\n",
       "      <th>capital-loss</th>\n",
       "      <th>hours-per-week</th>\n",
       "      <th>native-country</th>\n",
       "      <th>eligible</th>\n",
       "    </tr>\n",
       "  </thead>\n",
       "  <tbody>\n",
       "    <tr>\n",
       "      <th>0</th>\n",
       "      <td>25</td>\n",
       "      <td>Private</td>\n",
       "      <td>226802</td>\n",
       "      <td>11th</td>\n",
       "      <td>7</td>\n",
       "      <td>Never-married</td>\n",
       "      <td>Machine-op-inspct</td>\n",
       "      <td>Own-child</td>\n",
       "      <td>Black</td>\n",
       "      <td>Male</td>\n",
       "      <td>0</td>\n",
       "      <td>0</td>\n",
       "      <td>40</td>\n",
       "      <td>United-States</td>\n",
       "      <td>0</td>\n",
       "    </tr>\n",
       "    <tr>\n",
       "      <th>1</th>\n",
       "      <td>38</td>\n",
       "      <td>Private</td>\n",
       "      <td>89814</td>\n",
       "      <td>HS-grad</td>\n",
       "      <td>9</td>\n",
       "      <td>Married-civ-spouse</td>\n",
       "      <td>Farming-fishing</td>\n",
       "      <td>Husband</td>\n",
       "      <td>White</td>\n",
       "      <td>Male</td>\n",
       "      <td>0</td>\n",
       "      <td>0</td>\n",
       "      <td>50</td>\n",
       "      <td>United-States</td>\n",
       "      <td>0</td>\n",
       "    </tr>\n",
       "    <tr>\n",
       "      <th>2</th>\n",
       "      <td>28</td>\n",
       "      <td>Local-gov</td>\n",
       "      <td>336951</td>\n",
       "      <td>Assoc-acdm</td>\n",
       "      <td>12</td>\n",
       "      <td>Married-civ-spouse</td>\n",
       "      <td>Protective-serv</td>\n",
       "      <td>Husband</td>\n",
       "      <td>White</td>\n",
       "      <td>Male</td>\n",
       "      <td>0</td>\n",
       "      <td>0</td>\n",
       "      <td>40</td>\n",
       "      <td>United-States</td>\n",
       "      <td>1</td>\n",
       "    </tr>\n",
       "    <tr>\n",
       "      <th>3</th>\n",
       "      <td>44</td>\n",
       "      <td>Private</td>\n",
       "      <td>160323</td>\n",
       "      <td>Some-college</td>\n",
       "      <td>10</td>\n",
       "      <td>Married-civ-spouse</td>\n",
       "      <td>Machine-op-inspct</td>\n",
       "      <td>Husband</td>\n",
       "      <td>Black</td>\n",
       "      <td>Male</td>\n",
       "      <td>7688</td>\n",
       "      <td>0</td>\n",
       "      <td>40</td>\n",
       "      <td>United-States</td>\n",
       "      <td>1</td>\n",
       "    </tr>\n",
       "    <tr>\n",
       "      <th>4</th>\n",
       "      <td>18</td>\n",
       "      <td>?</td>\n",
       "      <td>103497</td>\n",
       "      <td>Some-college</td>\n",
       "      <td>10</td>\n",
       "      <td>Never-married</td>\n",
       "      <td>?</td>\n",
       "      <td>Own-child</td>\n",
       "      <td>White</td>\n",
       "      <td>Female</td>\n",
       "      <td>0</td>\n",
       "      <td>0</td>\n",
       "      <td>30</td>\n",
       "      <td>United-States</td>\n",
       "      <td>0</td>\n",
       "    </tr>\n",
       "  </tbody>\n",
       "</table>\n",
       "</div>"
      ],
      "text/plain": [
       "   age  workclass  fnlwgt     education  educational-num      marital-status  \\\n",
       "0   25    Private  226802          11th                7       Never-married   \n",
       "1   38    Private   89814       HS-grad                9  Married-civ-spouse   \n",
       "2   28  Local-gov  336951    Assoc-acdm               12  Married-civ-spouse   \n",
       "3   44    Private  160323  Some-college               10  Married-civ-spouse   \n",
       "4   18          ?  103497  Some-college               10       Never-married   \n",
       "\n",
       "          occupation relationship   race  gender  capital-gain  capital-loss  \\\n",
       "0  Machine-op-inspct    Own-child  Black    Male             0             0   \n",
       "1    Farming-fishing      Husband  White    Male             0             0   \n",
       "2    Protective-serv      Husband  White    Male             0             0   \n",
       "3  Machine-op-inspct      Husband  Black    Male          7688             0   \n",
       "4                  ?    Own-child  White  Female             0             0   \n",
       "\n",
       "   hours-per-week native-country  eligible  \n",
       "0              40  United-States         0  \n",
       "1              50  United-States         0  \n",
       "2              40  United-States         1  \n",
       "3              40  United-States         1  \n",
       "4              30  United-States         0  "
      ]
     },
     "execution_count": 58,
     "metadata": {},
     "output_type": "execute_result"
    }
   ],
   "source": [
    "data = data.rename(columns = {'income':'eligible'})\n",
    "data.replace(['<=50K','>50K'],[0,1], inplace = True) \n",
    "data.head()"
   ]
  },
  {
   "cell_type": "code",
   "execution_count": 59,
   "metadata": {
    "id": "30h0z3D_Zahm",
    "outputId": "9dc3cc23-0baa-4fe5-b295-0694d6278a9e"
   },
   "outputs": [
    {
     "data": {
      "text/plain": [
       "<AxesSubplot:xlabel='eligible', ylabel='count'>"
      ]
     },
     "execution_count": 59,
     "metadata": {},
     "output_type": "execute_result"
    },
    {
     "data": {
      "image/png": "[encoded data removed]",
      "text/plain": [
       "<Figure size 432x288 with 1 Axes>"
      ]
     },
     "metadata": {
      "needs_background": "light"
     },
     "output_type": "display_data"
    }
   ],
   "source": [
    "## Is the dataset balanced?\n",
    "\n",
    "sns.countplot(x='eligible',data=data)"
   ]
  },
  {
   "cell_type": "code",
   "execution_count": 60,
   "metadata": {},
   "outputs": [
    {
     "data": {
      "image/png": "[encoded data removed]",
      "text/plain": [
       "<Figure size 1080x360 with 2 Axes>"
      ]
     },
     "metadata": {
      "needs_background": "light"
     },
     "output_type": "display_data"
    }
   ],
   "source": [
    "#heatmap for different features\n",
    "fig, ax = plt.subplots(figsize=(15,5))         # Sample figsize in inches\n",
    "sns.heatmap(data.corr(), annot = True, ax=ax, cmap=\"RdPu\");\n",
    "plt.title('Correlation between the variables')\n",
    "plt.xticks(rotation=45);"
   ]
  },
  {
   "cell_type": "markdown",
   "metadata": {},
   "source": [
    "## Training and Testing Datasets"
   ]
  },
  {
   "cell_type": "code",
   "execution_count": 63,
   "metadata": {},
   "outputs": [
    {
     "name": "stdout",
     "output_type": "stream",
     "text": [
      "<class 'pandas.core.frame.DataFrame'>\n",
      "Int64Index: 48790 entries, 0 to 48841\n",
      "Data columns (total 15 columns):\n",
      " #   Column           Non-Null Count  Dtype \n",
      "---  ------           --------------  ----- \n",
      " 0   age              48790 non-null  int64 \n",
      " 1   workclass        48790 non-null  object\n",
      " 2   fnlwgt           48790 non-null  int64 \n",
      " 3   education        48790 non-null  object\n",
      " 4   educational-num  48790 non-null  int64 \n",
      " 5   marital-status   48790 non-null  object\n",
      " 6   occupation       48790 non-null  object\n",
      " 7   relationship     48790 non-null  object\n",
      " 8   race             48790 non-null  object\n",
      " 9   gender           48790 non-null  object\n",
      " 10  capital-gain     48790 non-null  int64 \n",
      " 11  capital-loss     48790 non-null  int64 \n",
      " 12  hours-per-week   48790 non-null  int64 \n",
      " 13  native-country   48790 non-null  object\n",
      " 14  eligible         48790 non-null  int64 \n",
      "dtypes: int64(7), object(8)\n",
      "memory usage: 7.0+ MB\n"
     ]
    }
   ],
   "source": [
    "data.info()"
   ]
  },
  {
   "cell_type": "code",
   "execution_count": 66,
   "metadata": {
    "id": "kxRk3vB3Zahr"
   },
   "outputs": [],
   "source": [
    "categorical = ['workclass', 'education', 'marital-status', 'occupation', \n",
    "                   'relationship', 'race', 'native-country', 'gender' ]\n",
    "numerical = ['age', 'educational-num','capital-gain', 'capital-loss',\n",
    "                'hours-per-week', 'fnlwgt']\n",
    " \n",
    "X = pd.concat([data[categorical], data[numerical]], axis=1) ## Just sort them, no need for encoding\n",
    "y = data['eligible']\n",
    "\n",
    "#split data\n",
    "X_train , X_test , y_train , y_test = train_test_split(X,y,test_size = 0.2 , random_state = 10)"
   ]
  },
  {
   "cell_type": "markdown",
   "metadata": {},
   "source": [
    "# Decision Trees\n",
    "Nonparametric, supervised alogorithm.\n",
    "<img src=\"https://www.tutorialandexample.com/wp-content/uploads/2019/10/Decision-Trees-Root-Node.png\" align = 'center' style=\"width: 600px;\">"
   ]
  },
  {
   "cell_type": "markdown",
   "metadata": {
    "id": "kRnr-2m7Zahu"
   },
   "source": [
    "# What is Entropy ?"
   ]
  },
  {
   "cell_type": "markdown",
   "metadata": {},
   "source": [
    "**Entropy** quantifies the uncertainity in an entire probability distribution."
   ]
  },
  {
   "cell_type": "markdown",
   "metadata": {
    "id": "7oNi2KuJZahv"
   },
   "source": [
    "$$Entropy\\ H(\\pi) = -\\sum \\pi log_2(\\pi)$$"
   ]
  },
  {
   "cell_type": "markdown",
   "metadata": {
    "id": "BZrjq9miZahu"
   },
   "source": [
    "<img src=\"http://photos1.blogger.com/blogger/5682/4111/1600/EntropyVersusProbability.0.png\" style=\"width: 600px;\">"
   ]
  },
  {
   "cell_type": "markdown",
   "metadata": {},
   "source": [
    "source: http://matlabdatamining.blogspot.com/2006/11/introduction-to-entropy.html <br>\n",
    "Source: https://www.section.io/engineering-education/entropy-information-gain-machine-learning/"
   ]
  },
  {
   "cell_type": "markdown",
   "metadata": {
    "id": "7e_A6GBe11nA"
   },
   "source": [
    "## Entropy Implementation "
   ]
  },
  {
   "cell_type": "code",
   "execution_count": 150,
   "metadata": {
    "id": "KtJ5JBp4Zahw"
   },
   "outputs": [],
   "source": [
    "def entropy(class_y):\n",
    "    \"\"\" \n",
    "    Compute the entropy for a list of classes\n",
    "    \n",
    "        Input: \n",
    "            - class_y: list of class labels (0's and 1's)\n",
    "\n",
    "        Output: \n",
    "            - The entropy         \n",
    "            \n",
    "    \"\"\"\n",
    "    \n",
    "    if len(class_y) <=1: ## Handling if there is only 1 or 0 labels left\n",
    "        return 0\n",
    "    \n",
    "    total_count = np.bincount(class_y) # count 0 and 1\n",
    "    \n",
    "    probabilities = total_count[np.nonzero(total_count)] / len(class_y) # Find the probabilities\n",
    "    \n",
    "    if len(probabilities) <= 1 : ## Handling if the length of the list probabilities is less than or equal to 1\n",
    "        return 0\n",
    "\n",
    "    return - np.sum(probabilities * np.log2(probabilities)) ## Entropy equation"
   ]
  },
  {
   "cell_type": "code",
   "execution_count": 257,
   "metadata": {},
   "outputs": [
    {
     "data": {
      "text/plain": [
       "0.9182958340544896"
      ]
     },
     "execution_count": 257,
     "metadata": {},
     "output_type": "execute_result"
    }
   ],
   "source": [
    "#test\n",
    "entropy([0,0,1,1]) #as expected at all probs = 0.5"
   ]
  },
  {
   "cell_type": "markdown",
   "metadata": {
    "id": "AKRKcUO2Zahz"
   },
   "source": [
    "# Conditional Entropy & Information Gain\n",
    "\n",
    "**Conditional Entropy** quantifies the amount of uncertainity of a variable when another variable is known. <br>\n",
    "**Information gain** represents the amount of reduction in entropy due to the use of attribute to split on."
   ]
  },
  {
   "cell_type": "markdown",
   "metadata": {
    "id": "znSgzwaHZahz"
   },
   "source": [
    "$$Conditional\\ Entropy\\ H(Y|X)= -\\sum p(Y=y, X=x )\\log\\frac{p(Y=y, X=x )}{p(X=x)}$$\n",
    "\n",
    "$$Information\\ Gain\\ IG(Y|X)= H(Y) - H(Y|X)$$"
   ]
  },
  {
   "attachments": {
    "image.png": {
     "image/png": "[encoded data removed]"
    }
   },
   "cell_type": "markdown",
   "metadata": {},
   "source": [
    "![image.png](attachment:image.png)"
   ]
  },
  {
   "cell_type": "code",
   "execution_count": 152,
   "metadata": {
    "id": "-GyKZeFQZahz"
   },
   "outputs": [],
   "source": [
    "def information_gain(previous_y, current_y):\n",
    "    \"\"\"\n",
    "    Compute and return the information gain from partitioning the previous_y labels into the current_y labels.\n",
    "\n",
    "        Inputs:\n",
    "            - previous_y : the distribution of original labels (0's and 1's)\n",
    "            - current_y  : the distribution of labels after splitting based on a particular\n",
    "                         split attribute and split value\n",
    "\n",
    "        Outputs:\n",
    "            - info_gain : The information gain after partitioning\n",
    "        \n",
    "    \n",
    "    \"\"\" \n",
    "    conditional_entropy = 0 ## IG = H(Y) - CE(Y|X)\n",
    "    condition1 =0\n",
    "    \n",
    "    for y in current_y:\n",
    "        conditional_entropy += (entropy(y)*len(y)/len(previous_y))\n",
    "  \n",
    "\n",
    "    info_gain = entropy(previous_y) - conditional_entropy\n",
    "    return info_gain\n"
   ]
  },
  {
   "cell_type": "markdown",
   "metadata": {
    "id": "zErFf3e4Zah3"
   },
   "source": [
    "### Test the information gain and the entropy implementations"
   ]
  },
  {
   "cell_type": "code",
   "execution_count": 153,
   "metadata": {
    "id": "IMKabbTsZah3",
    "outputId": "d3d6c790-4583-4bd9-9229-dcce173a0adc"
   },
   "outputs": [
    {
     "name": "stdout",
     "output_type": "stream",
     "text": [
      "0.954434002924965\n",
      "0.4591479170272448\n"
     ]
    }
   ],
   "source": [
    "# TEST CASE\n",
    "test_class_y = [0,0,0,1,1,1,1,1]\n",
    "print(entropy(test_class_y))\n",
    " \n",
    "previous_y = [0,0,0,1,1,1]\n",
    "current_y = [[0,0], [1,1,1,0]]\n",
    "print(information_gain(previous_y, current_y))"
   ]
  },
  {
   "cell_type": "markdown",
   "metadata": {
    "id": "4DlBNkPkZah7"
   },
   "source": [
    "# The Decision Tree ID3 algorithm\n",
    "1. Find best feature\n",
    "2. Find best split for the best feature\n",
    "3. Parition classes based on steps 1 and 2"
   ]
  },
  {
   "cell_type": "markdown",
   "metadata": {
    "id": "FXNP_SjRZah8"
   },
   "source": [
    "## Step 3 : partition_classes\n",
    "\n",
    "- One of the basic operations is to split a tree on one attribute - step 1 - with a specific value for that attribute - step 2.\n",
    "\n",
    "\n",
    "- We need to also take into consideration if the split attribute is either a numerical or categorical.\n"
   ]
  },
  {
   "cell_type": "code",
   "execution_count": 154,
   "metadata": {
    "id": "Wf1892vLZah9"
   },
   "outputs": [],
   "source": [
    "def partition_classes(X, y, split_attribute, split_val):\n",
    "    \"\"\"\n",
    "    Partition the data(X) and labels(y) based on the split value    \n",
    "\n",
    "            Inputs:\n",
    "            - X               : (N,D) list containing all data attributes\n",
    "            - y               : a list of labels\n",
    "            - split_attribute : column index of the attribute to split on\n",
    "            - split_val       : either a numerical or categorical value to divide the split_attribute\n",
    "\n",
    "            Outputs:\n",
    "            - X_left          : X left after partitioning\n",
    "            - X_right         : X right after partitioning\n",
    "            - y_left          : y left after partitioning\n",
    "            - y_right         : y right after partitioning\n",
    "    \n",
    "    \"\"\"\n",
    "    \"\"\"\n",
    "    Example:\n",
    "    \n",
    "    X = [[3, 'aa', 10],                 y = [1,\n",
    "         [1, 'bb', 22],                      1,\n",
    "         [2, 'cc', 28],                      0,\n",
    "         [5, 'bb', 32],                      0,\n",
    "         [4, 'cc', 32]]                      1]\n",
    "    \n",
    "    Here, columns 0 and 2 represent numeric attributes, while column 1 is a categorical attribute.\n",
    "    \n",
    "    Consider the case where we call the function with split_attribute = 0 (the index of attribute) and \n",
    "            split_val = 3 (the value of attribute).\n",
    "            \n",
    "    Then we divide X into two lists - X_left, where column 0 is <= 3 and X_right, where column 0 is > 3.\n",
    "    \n",
    "    X_left = [[3, 'aa', 10],                 y_left = [1,\n",
    "              [1, 'bb', 22],                           1,\n",
    "              [2, 'cc', 28]]                           0]\n",
    "              \n",
    "    X_right = [[5, 'bb', 32],                y_right = [0,\n",
    "               [4, 'cc', 32]]                           1]\n",
    "\n",
    "    Consider another case where we call the function with split_attribute = 1 and split_val = 'bb'\n",
    "    Then we divide X into two lists, one where column 1 is 'bb', and the other where it is not 'bb'.\n",
    "        \n",
    "    X_left = [[1, 'bb', 22],                 y_left = [1,\n",
    "              [5, 'bb', 32]]                           0]\n",
    "              \n",
    "    X_right = [[3, 'aa', 10],                y_right = [1,\n",
    "               [2, 'cc', 28],                           0,\n",
    "               [4, 'cc', 32]]                           1]\n",
    "               \n",
    "    \"\"\"\n",
    "    \n",
    "    X = np.array(X)\n",
    "    column_split = X[:,split_attribute]\n",
    "    \n",
    "    X_left=[]\n",
    "    y_right = []\n",
    "    X_right = []\n",
    "    y_left = []\n",
    "    \n",
    "    counter=0 ## Counter for appending\n",
    "\n",
    "    if isinstance(split_val,str) == False: ## Numerical attribute\n",
    "        \n",
    "        for i in column_split:\n",
    "            if i <= split_val:\n",
    "                X_left.append(X[counter])\n",
    "                y_left.append(y[counter])\n",
    "            else:\n",
    "                X_right.append(X[counter])\n",
    "                y_right.append(y[counter])\n",
    "            \n",
    "            counter+=1\n",
    "            \n",
    "    else: ## Categorical attribute\n",
    "        \n",
    "        for i in column_split:\n",
    "            \n",
    "            if i == split_val: ## == and NOT <=\n",
    "                X_left.append(X[counter])\n",
    "                y_left.append(y[counter])\n",
    "            else:\n",
    "                X_right.append(X[counter])\n",
    "                y_right.append(y[counter])\n",
    "            \n",
    "            counter+=1\n",
    "\n",
    "    return X_left, X_right, y_left, y_right "
   ]
  },
  {
   "cell_type": "markdown",
   "metadata": {
    "id": "sTU_40txZaiA"
   },
   "source": [
    "## Step 2 : Find Best Split\n",
    "\n",
    "- In this step, we find the *order* of features splitting. \n",
    "\n",
    "\n",
    "- To do so, we calculate the information gain of each value in the attribute list. \n",
    "\n",
    "\n",
    "- Then, we find the optimal split value. This corresponds to the one with the highest information gain\n"
   ]
  },
  {
   "cell_type": "code",
   "execution_count": 189,
   "metadata": {
    "id": "d6BTbdh7ZaiB"
   },
   "outputs": [],
   "source": [
    "def find_best_split(X, y, split_attribute):\n",
    "    \n",
    "    \"\"\"\n",
    "    Compute and return the optimal split value for a given attribute, along with the corresponding information gain\n",
    "\n",
    "        Inputs:\n",
    "            - X               : (N,D) list containing all data attributes\n",
    "            - y               : a list array of labels\n",
    "            - split_attribute : Column of X on which to split\n",
    "\n",
    "        Outputs:\n",
    "            - best_split_val  : optimal split value for a given attribute\n",
    "            - best_info_gain  : the corresponding information gain\n",
    "    \n",
    "    \"\"\"\n",
    "    \n",
    "    \"\"\"\n",
    "    \n",
    "      Example:\n",
    "    \n",
    "        X = [[3, 'aa', 10],                 y = [1,\n",
    "             [1, 'bb', 22],                      1,\n",
    "             [2, 'cc', 28],                      0,\n",
    "             [5, 'bb', 32],                      0,\n",
    "             [4, 'cc', 32]]                      1]\n",
    "    \n",
    "        split_attribute = 0\n",
    "        \n",
    "        Starting entropy: 0.971\n",
    "        \n",
    "        Calculate information gain at splits:\n",
    "           split_val = 1  -->  info_gain = 0.17\n",
    "           split_val = 2  -->  info_gain = 0.01997\n",
    "           split_val = 3  -->  info_gain = 0.01997\n",
    "           split_val = 4  -->  info_gain = 0.32\n",
    "           split_val = 5  -->  info_gain = 0\n",
    "        \n",
    "       best_split_val = 4; info_gain = .32; \n",
    "    \"\"\"\n",
    "    \n",
    "    \n",
    "    best_info_gain = 0 # Initialize the best information gain\n",
    "    \n",
    "    X = np.array(X)\n",
    "    column_split = X[:,split_attribute]\n",
    "\n",
    "    column_split = np.unique(column_split) ## Get the unique values only !\n",
    "    best_split_val = column_split[0] ## Set the best split as the initial one ( in case it is the only one)\n",
    "\n",
    "    for split_val in column_split:\n",
    "        current_X_left, current_X_right, current_y_left, current_y_right = partition_classes(X, y, split_attribute, split_val) ## Call the partition classes function\n",
    "        \n",
    "        current_y = []\n",
    "        current_y.append(current_y_left)\n",
    "        current_y.append(current_y_right)\n",
    "\n",
    "        current_info_gain = information_gain(y,current_y) ## Calculate the information gain\n",
    "        \n",
    "        if current_info_gain > best_info_gain: ## check if it is better than before\n",
    "            best_info_gain = current_info_gain\n",
    "            best_split_val = split_val\n",
    "\n",
    "    return best_split_val, best_info_gain"
   ]
  },
  {
   "cell_type": "markdown",
   "metadata": {
    "id": "4mvofbuTZaiD"
   },
   "source": [
    "## Step 1 : Find Best Feature\n",
    "\n",
    "- We use steps 2 and 3 to find the best feature"
   ]
  },
  {
   "cell_type": "code",
   "execution_count": 190,
   "metadata": {
    "id": "wWrtRx_fZaiE"
   },
   "outputs": [],
   "source": [
    "def find_best_feature(X, y):\n",
    "    \"\"\"\n",
    "    Compute and return the optimal attribute to split on and optimal splitting value\n",
    "\n",
    "            Inputs:\n",
    "                - X              : (N,D) list containing all data attributes\n",
    "                - y              : a list of labels\n",
    "\n",
    "            Outputs:\n",
    "                - best_feature   : Best Feature to split on\n",
    "                - best_split_val : Best Split Value for this feature\n",
    "        \n",
    "    \"\"\"\n",
    "    \n",
    "    \"\"\"\n",
    "        \n",
    "    Example:\n",
    "    \n",
    "        X = [[3, 'aa', 10],                 y = [1,\n",
    "             [1, 'bb', 22],                      1,\n",
    "             [2, 'cc', 28],                      0,\n",
    "             [5, 'bb', 32],                      0,\n",
    "             [4, 'cc', 32]]                      1]\n",
    "    \n",
    "        split_attribute = 0\n",
    "        \n",
    "        Starting entropy: 0.971\n",
    "        \n",
    "        Calculate information gain at splits:\n",
    "           feature 0:  -->  info_gain = 0.32\n",
    "           feature 1:  -->  info_gain = 0.17\n",
    "           feature 2:  -->  info_gain = 0.4199\n",
    "        \n",
    "       best_split_feature: 2 best_split_val: 22\n",
    "    \"\"\"\n",
    "    \n",
    "    \n",
    "    best_info_gain = 0\n",
    "    best_feature = 0\n",
    "    best_split_val = 0\n",
    "    \n",
    "    for feature_index in range(len(X[0])): ## Loop over the features , find the best split \n",
    "\n",
    "        current_best_split_val, current_best_info_gain =  find_best_split(X, y,  feature_index)\n",
    "        \n",
    "        if current_best_info_gain > best_info_gain:\n",
    "            \n",
    "            best_info_gain = current_best_info_gain\n",
    "            best_feature = feature_index\n",
    "            best_split_val = current_best_split_val\n",
    "            \n",
    "    return best_feature, best_split_val"
   ]
  },
  {
   "cell_type": "markdown",
   "metadata": {
    "id": "jFnM5rQWZaiG"
   },
   "source": [
    "# Decision Tree ID3 Full Algorithm : Putting Everything Together"
   ]
  },
  {
   "cell_type": "markdown",
   "metadata": {
    "id": "uu1wESqIZaiG"
   },
   "source": [
    "- We will use a recursive algorithm, so we need to have a base case - a stopping condition for splitting- . It can be one of the following:\n",
    "\n",
    "    - If all data points in that node have the same label\n",
    "\n",
    "    - If the current node is at the maximum depth. In this case, you may assign the mode of the labels as the class label\n",
    "\n",
    "\n",
    "- We are going to use a class, so you might need to revise the OOP part in the first lab.\n",
    "\n",
    "\n",
    "- We are going to use a dictionary to store the tree information. It will contain the class labels, feature and value to split, and reference to the right and left children.\n",
    "\n",
    "- For example:\n",
    "```\n",
    " node = {\n",
    "            'isLeaf': False,\n",
    "            'split_attribute': 1,\n",
    "            'split_value': 3,\n",
    "            'is_categorical': True,\n",
    "            'leftTree': leftTree,  --> This is a instance of the class itself\n",
    "            'rightTree': rightTree --> This is a instance of the class itself\n",
    "        };\n",
    "```\n"
   ]
  },
  {
   "cell_type": "markdown",
   "metadata": {
    "id": "uAazOKWZZaiH"
   },
   "source": [
    "<img src=\"https://res.cloudinary.com/dyd911kmh/image/upload/f_auto,q_auto:best/v1545934190/1_r5ikdb.png\">\n",
    "<br/> \n",
    "<br/> \n",
    "source: https://www.datacamp.com/community/tutorials/decision-tree-classification-python"
   ]
  },
  {
   "cell_type": "code",
   "execution_count": 194,
   "metadata": {
    "id": "gyzBMR2cZaiH"
   },
   "outputs": [],
   "source": [
    "class MyDecisionTree(object):\n",
    "    \n",
    "    def __init__(self, max_depth=None):\n",
    "        \"\"\"        \n",
    "            Args:\n",
    "                max_depth: maximum depth of the tree including the root node.\n",
    "        \"\"\"\n",
    "        self.tree = {}\n",
    "        self.residual_tree = {} ## For prediction\n",
    "        self.max_depth = max_depth\n",
    "\n",
    "        \n",
    "    def fit(self, X, y, depth):\n",
    "        \"\"\"\n",
    "            Args:\n",
    "                X     : N*D matrix corresponding to the data points\n",
    "                Y     : N*1 array corresponding to the labels of the data points\n",
    "                depth : depth of node of the tree\n",
    "\n",
    "            Output:\n",
    "                node : A dictionary that contains this node information\n",
    "        \"\"\"\n",
    "\n",
    "        # base cases\n",
    "        unique_labels = np.unique(y) \n",
    "        \n",
    "        ## Check if we reached the maximum depth: we then assign the class according to the majority\n",
    "        # or all remaining are of same class: by default, it is the majority, so, it is assigned to that class\n",
    "        if (len(unique_labels)==1) or (depth == max_depth): \n",
    "            unique_labels, counts_unique_labels = np.unique(y, return_counts=True)\n",
    "            index = counts_unique_labels.argmax() #returns index of the max value\n",
    "            classification = unique_labels[index]    \n",
    "            return classification\n",
    "\n",
    "        #split the data according to the best attribute:\n",
    "        # Step 1: Find best feature \n",
    "        # Step 2: Split on this feature \n",
    "        # Split 3: Partition on the best feature and split \n",
    "\n",
    "        best_feat, best_split  = find_best_feature(X, y) \n",
    "        X_left, X_right, y_left, y_right = partition_classes(X, y, best_feat, best_split) \n",
    "        \n",
    "        #if the best split is categorical?\n",
    "        if isinstance(best_split,str):\n",
    "            question = \"{} == {}\".format(best_feat, best_split) ## Represnt the sub-tree as a question and an answer\n",
    "        \n",
    "        else: #numerical feature\n",
    "            question = \"{} <= {}\".format(best_feat, best_split) ## Represnt the sub-tree as a question and an answer\n",
    "        \n",
    "        node = {question: []}\n",
    "        \n",
    "        \"\"\"                              ...\n",
    "                                          .\n",
    "                                {Weather} == {Rainy}\n",
    "                                .                    .\n",
    "                            .                            .\n",
    "                        Yes_tree                           No_tree\n",
    "                {Another_Attr} == {Value}          {Another_Attr} == {Value}\n",
    "        \"\"\"\n",
    "        \n",
    "        # find answers (recursion) by splitting the result trees\n",
    "        \n",
    "        depth+=1 \n",
    "        yes_answer = self.fit(X_left,y_left, depth)  # RECURSION on the left sub tree\n",
    "        no_answer = self.fit(X_right, y_right, depth) ## RECURSION on the right sub tree\n",
    "        \n",
    "        if yes_answer == no_answer: ## Both trees are the same\n",
    "            node = yes_answer\n",
    "        else:\n",
    "            node[question].append(yes_answer) ## Append the questions to the answers\n",
    "            node[question].append(no_answer)\n",
    "        \n",
    "        self.tree = node ## The tree is equal to the node\n",
    "        return node\n",
    "        \n",
    "    def predict(self, record,flag=1):\n",
    "        \"\"\"\n",
    "        classify a sample in test data set using self.tree and return the predicted label\n",
    "            Args:\n",
    "                record: D*1, a single data point that should be classified\n",
    "        \n",
    "            Output:\n",
    "                 prediction: True if the predicted class label is 1, False otherwise      \n",
    "        \n",
    "        \"\"\"\n",
    "        if flag == 1: ## First time\n",
    "            self.residual_tree = self.tree\n",
    "        question = list(self.residual_tree.keys())[0]\n",
    "        feature, comparison, value = question.split() ## Split the question to get the feature and its value\n",
    "\n",
    "        ## Check if str or int\n",
    "        if comparison == \"==\": # String\n",
    "            if record[int(feature)] == value:\n",
    "                answer = self.residual_tree[question][0]  ## Left sub tree\n",
    "            else:\n",
    "                answer = self.residual_tree[question][1] ## Right sub-tree\n",
    "        elif comparison == \"<=\": #Integer\n",
    "            if record[int(feature)] <= float(value):\n",
    "                answer = self.residual_tree[question][0] ## Right Sub-tree\n",
    "            else:\n",
    "                answer = self.residual_tree[question][1] ## Left sub-tree        try: ## Integer\n",
    "                \n",
    "        # base case\n",
    "        if not isinstance(answer, dict):  ## If we have the answer\n",
    "            return answer\n",
    "    \n",
    "        # recursion\n",
    "        else:\n",
    "            self.residual_tree = answer ## The residual tree is the answer !\n",
    "            return self.predict(record,0) ## have flag = 0 so the residual tree is our sub-problem"
   ]
  },
  {
   "cell_type": "markdown",
   "metadata": {
    "id": "3QxYp5PzZaiM"
   },
   "source": [
    "### Evaluation Function"
   ]
  },
  {
   "cell_type": "code",
   "execution_count": 195,
   "metadata": {
    "id": "ZIw7gxOXZaiM"
   },
   "outputs": [],
   "source": [
    "def DecisionTreeEvalution(id3,X,y, verbose=False):\n",
    "    \"\"\" Calculate the Accuracy of our decision tree\n",
    "            Inputs:\n",
    "                id3: a tree object\n",
    "                X: features\n",
    "                y: labels\n",
    "                verbose: whether to print the accuracy or not\n",
    "    \"\"\"\n",
    "    y_predicted = []\n",
    "    for record in X: \n",
    "        y_predicted.append(id3.predict(record)) #predict records\n",
    "        \n",
    "    # Comparing predicted and true labels\n",
    "    results = [prediction == truth for prediction, truth in zip(y_predicted, y)]\n",
    "    # Accuracy\n",
    "    accuracy = float(results.count(True)) / float(len(results))\n",
    "    if verbose:\n",
    "        print(\"accuracy: %.4f\" % accuracy)\n",
    "    return accuracy"
   ]
  },
  {
   "cell_type": "markdown",
   "metadata": {},
   "source": [
    "# Testing our Implementation"
   ]
  },
  {
   "cell_type": "code",
   "execution_count": 159,
   "metadata": {
    "collapsed": true
   },
   "outputs": [
    {
     "ename": "AttributeError",
     "evalue": "'numpy.ndarray' object has no attribute 'to_numpy'",
     "output_type": "error",
     "traceback": [
      "\u001b[0;31m---------------------------------------------------------------------------\u001b[0m",
      "\u001b[0;31mAttributeError\u001b[0m                            Traceback (most recent call last)",
      "\u001b[0;32m<ipython-input-159-80d6be33c1de>\u001b[0m in \u001b[0;36m<module>\u001b[0;34m\u001b[0m\n\u001b[1;32m      1\u001b[0m \u001b[0;31m#### Convert the dataframes to numpy arrays as our implementation works on NumPy arrays\u001b[0m\u001b[0;34m\u001b[0m\u001b[0;34m\u001b[0m\u001b[0;34m\u001b[0m\u001b[0m\n\u001b[0;32m----> 2\u001b[0;31m \u001b[0mX_train\u001b[0m \u001b[0;34m,\u001b[0m \u001b[0mX_test\u001b[0m \u001b[0;34m,\u001b[0m \u001b[0my_train\u001b[0m \u001b[0;34m,\u001b[0m \u001b[0my_test\u001b[0m \u001b[0;34m=\u001b[0m \u001b[0mX_train\u001b[0m\u001b[0;34m.\u001b[0m\u001b[0mto_numpy\u001b[0m\u001b[0;34m(\u001b[0m\u001b[0;34m)\u001b[0m \u001b[0;34m,\u001b[0m \u001b[0mX_test\u001b[0m\u001b[0;34m.\u001b[0m\u001b[0mto_numpy\u001b[0m\u001b[0;34m(\u001b[0m\u001b[0;34m)\u001b[0m \u001b[0;34m,\u001b[0m \u001b[0my_train\u001b[0m\u001b[0;34m.\u001b[0m\u001b[0mto_numpy\u001b[0m\u001b[0;34m(\u001b[0m\u001b[0;34m)\u001b[0m \u001b[0;34m,\u001b[0m \u001b[0my_test\u001b[0m\u001b[0;34m.\u001b[0m\u001b[0mto_numpy\u001b[0m\u001b[0;34m(\u001b[0m\u001b[0;34m)\u001b[0m\u001b[0;34m\u001b[0m\u001b[0;34m\u001b[0m\u001b[0m\n\u001b[0m",
      "\u001b[0;31mAttributeError\u001b[0m: 'numpy.ndarray' object has no attribute 'to_numpy'"
     ]
    }
   ],
   "source": [
    "#### Convert the dataframes to numpy arrays as our implementation works on NumPy arrays\n",
    "X_train , X_test , y_train , y_test = X_train.to_numpy() , X_test.to_numpy() , y_train.to_numpy() , y_test.to_numpy()"
   ]
  },
  {
   "cell_type": "code",
   "execution_count": 196,
   "metadata": {
    "id": "l_bYeL5-ZaiP",
    "outputId": "f2e5dad2-5e7b-46f3-f987-247218327c86",
    "scrolled": true
   },
   "outputs": [
    {
     "name": "stdout",
     "output_type": "stream",
     "text": [
      "Fitting the decision tree with maximum depth 7\n",
      "Accuracy = 85.0 %\n"
     ]
    }
   ],
   "source": [
    "max_depth = 7\n",
    "inital_depth = 0\n",
    "id3_dt = MyDecisionTree(max_depth)\n",
    "\n",
    "# Building a tree\n",
    "print(\"Fitting the decision tree with maximum depth {}\".format(max_depth))\n",
    "id3_dt.fit(X_train, y_train, inital_depth)\n",
    "\n",
    "# Evaluating the decision tree\n",
    "print(\"Accuracy = {} %\".format(np.round(DecisionTreeEvalution(id3_dt,X_test,y_test),2)*100))"
   ]
  },
  {
   "cell_type": "markdown",
   "metadata": {
    "id": "sr7KLqdWZaiV"
   },
   "source": [
    "## What is the final tree"
   ]
  },
  {
   "cell_type": "code",
   "execution_count": 233,
   "metadata": {
    "id": "739SulVKZaiW",
    "outputId": "9372a06f-0d0c-4a8a-adf0-0cfca87a143f"
   },
   "outputs": [
    {
     "name": "stdout",
     "output_type": "stream",
     "text": [
      "2 == Married-civ-spouse :\n",
      "Left tree\n",
      "10 <= 5013 :\n",
      "Left tree\n",
      "9 <= 12 :\n",
      "Left tree\n",
      "9 <= 8 :\n",
      "Left tree\n",
      "[0, {'11 <= 1844': [0, {'11 <= 1977': [1, 0]}]}]\n",
      "Right tree\n",
      "11 <= 1844 :\n",
      "Left tree\n",
      "[0, {'11 <= 1977': [1, 0]}]\n",
      "Right tree\n",
      "11 <= 1977 :\n",
      "Left tree\n",
      "[1, 0]\n",
      "Right tree\n",
      "[1, 0]\n",
      "Right tree\n",
      "11 <= 1740 :\n",
      "Left tree\n",
      "12 <= 31 :\n",
      "Left tree\n",
      "4 == Wife :\n",
      "Left tree\n",
      "13 <= 104620 :\n",
      "Left tree\n",
      "[0, 1]\n",
      "Right tree\n",
      "[0, 1]\n",
      "Right tree\n",
      "[{'13 <= 104620': [0, 1]}, 0]\n",
      "Right tree\n",
      "1 == Bachelors :\n",
      "Left tree\n",
      "8 <= 25 :\n",
      "Left tree\n",
      "[0, 1]\n",
      "Right tree\n",
      "[0, 1]\n",
      "Right tree\n",
      "10 <= 0 :\n",
      "Left tree\n",
      "[1, 0]\n",
      "Right tree\n",
      "[1, 0]\n",
      "Right tree\n",
      "11 <= 1977 :\n",
      "Left tree\n",
      "0 == Federal-gov :\n",
      "Left tree\n",
      "8 <= 47 :\n",
      "Left tree\n",
      "[1, 0]\n",
      "Right tree\n",
      "[1, 0]\n",
      "Right tree\n",
      "[{'8 <= 47': [1, 0]}, 1]\n",
      "Right tree\n",
      "11 <= 2163 :\n",
      "Left tree\n",
      "[0, 1]\n",
      "Right tree\n",
      "[0, 1]\n",
      "Right tree\n",
      "8 <= 60 :\n",
      "Left tree\n",
      "6 == South :\n",
      "Left tree\n",
      "1 == HS-grad :\n",
      "Left tree\n",
      "[0, 1]\n",
      "Right tree\n",
      "[0, 1]\n",
      "Right tree\n",
      "[{'1 == HS-grad': [0, 1]}, 1]\n",
      "Right tree\n",
      "10 <= 10566 :\n",
      "Left tree\n",
      "10 <= 9386 :\n",
      "Left tree\n",
      "10 <= 6767 :\n",
      "Left tree\n",
      "10 <= 6514 :\n",
      "Left tree\n",
      "[1, 0]\n",
      "Right tree\n",
      "[1, 0]\n",
      "Right tree\n",
      "[{'10 <= 6514': [1, 0]}, 1]\n",
      "Right tree\n",
      "[{'10 <= 6767': [{'10 <= 6514': [1, 0]}, 1]}, 0]\n",
      "Right tree\n",
      "3 == Farming-fishing :\n",
      "Left tree\n",
      "8 <= 63 :\n",
      "Left tree\n",
      "[0, 1]\n",
      "Right tree\n",
      "[0, 1]\n",
      "Right tree\n",
      "[{'8 <= 63': [0, 1]}, 1]\n",
      "Right tree\n",
      "10 <= 6849 :\n",
      "Left tree\n",
      "9 <= 12 :\n",
      "Left tree\n",
      "8 <= 26 :\n",
      "Left tree\n",
      "11 <= 2339 :\n",
      "Left tree\n",
      "[0, 1]\n",
      "Right tree\n",
      "[0, 1]\n",
      "Right tree\n",
      "12 <= 40 :\n",
      "Left tree\n",
      "[0, {'11 <= 2206': [0, {'11 <= 2339': [0, 1]}]}]\n",
      "Right tree\n",
      "11 <= 2206 :\n",
      "Left tree\n",
      "[0, {'11 <= 2339': [0, 1]}]\n",
      "Right tree\n",
      "11 <= 2339 :\n",
      "Left tree\n",
      "[0, 1]\n",
      "Right tree\n",
      "[0, 1]\n",
      "Right tree\n",
      "8 <= 27 :\n",
      "Left tree\n",
      "11 <= 2205 :\n",
      "Left tree\n",
      "[0, {'3 == Exec-managerial': [1, {'0 == Self-emp-not-inc': [1, 0]}]}]\n",
      "Right tree\n",
      "3 == Exec-managerial :\n",
      "Left tree\n",
      "[1, {'0 == Self-emp-not-inc': [1, 0]}]\n",
      "Right tree\n",
      "0 == Self-emp-not-inc :\n",
      "Left tree\n",
      "[1, 0]\n",
      "Right tree\n",
      "[1, 0]\n",
      "Right tree\n",
      "12 <= 42 :\n",
      "Left tree\n",
      "11 <= 2339 :\n",
      "Left tree\n",
      "[0, {'11 <= 3683': [1, 0]}]\n",
      "Right tree\n",
      "11 <= 3683 :\n",
      "Left tree\n",
      "[1, 0]\n",
      "Right tree\n",
      "[1, 0]\n",
      "Right tree\n",
      "9 <= 14 :\n",
      "Left tree\n",
      "[0, {'8 <= 32': [0, 1]}]\n",
      "Right tree\n",
      "8 <= 32 :\n",
      "Left tree\n",
      "[0, 1]\n",
      "Right tree\n",
      "[0, 1]\n",
      "Right tree\n",
      "10 <= 7978 :\n",
      "Left tree\n",
      "10 <= 7430 :\n",
      "Left tree\n",
      "[1, {'0 == Local-gov': [{'1 == Bachelors': [0, 1]}, 0]}]\n",
      "Right tree\n",
      "0 == Local-gov :\n",
      "Left tree\n",
      "1 == Bachelors :\n",
      "Left tree\n",
      "[0, 1]\n",
      "Right tree\n",
      "[0, 1]\n",
      "Right tree\n",
      "[{'1 == Bachelors': [0, 1]}, 0]\n",
      "Right tree\n",
      "8 <= 20 :\n",
      "Left tree\n",
      "[0, 1]\n",
      "Right tree\n",
      "[0, 1]\n"
     ]
    }
   ],
   "source": [
    "def print_nested_dict(d):\n",
    "    node = list(d.keys())[0] #root\n",
    "    \n",
    "    print(node, ':')\n",
    "    #left tree\n",
    "    print('Left tree')\n",
    "    if isinstance(d[node][0], dict):\n",
    "        print_nested_dict(d[node][0])\n",
    "    else: print(d[node])\n",
    "    #right\n",
    "    print('Right tree')\n",
    "    if isinstance(d[node][1], dict):\n",
    "        print_nested_dict(d[node][1])\n",
    "    else: print(d[node])\n",
    "    \n",
    "print_nested_dict(id3_dt.tree)"
   ]
  },
  {
   "cell_type": "code",
   "execution_count": 234,
   "metadata": {},
   "outputs": [
    {
     "data": {
      "text/plain": [
       "{'2 == Married-civ-spouse': [{'10 <= 5013': [{'9 <= 12': [{'9 <= 8': [0,\n",
       "        {'11 <= 1844': [0, {'11 <= 1977': [1, 0]}]}]},\n",
       "      {'11 <= 1740': [{'12 <= 31': [{'4 == Wife': [{'13 <= 104620': [0, 1]},\n",
       "            0]},\n",
       "          {'1 == Bachelors': [{'8 <= 25': [0, 1]}, {'10 <= 0': [1, 0]}]}]},\n",
       "        {'11 <= 1977': [{'0 == Federal-gov': [{'8 <= 47': [1, 0]}, 1]},\n",
       "          {'11 <= 2163': [0, 1]}]}]}]},\n",
       "    {'8 <= 60': [{'6 == South': [{'1 == HS-grad': [0, 1]}, 1]},\n",
       "      {'10 <= 10566': [{'10 <= 9386': [{'10 <= 6767': [{'10 <= 6514': [1, 0]},\n",
       "            1]},\n",
       "          0]},\n",
       "        {'3 == Farming-fishing': [{'8 <= 63': [0, 1]}, 1]}]}]}]},\n",
       "  {'10 <= 6849': [{'9 <= 12': [{'8 <= 26': [{'11 <= 2339': [0, 1]},\n",
       "        {'12 <= 40': [0, {'11 <= 2206': [0, {'11 <= 2339': [0, 1]}]}]}]},\n",
       "      {'8 <= 27': [{'11 <= 2205': [0,\n",
       "          {'3 == Exec-managerial': [1, {'0 == Self-emp-not-inc': [1, 0]}]}]},\n",
       "        {'12 <= 42': [{'11 <= 2339': [0, {'11 <= 3683': [1, 0]}]},\n",
       "          {'9 <= 14': [0, {'8 <= 32': [0, 1]}]}]}]}]},\n",
       "    {'10 <= 7978': [{'10 <= 7430': [1,\n",
       "        {'0 == Local-gov': [{'1 == Bachelors': [0, 1]}, 0]}]},\n",
       "      {'8 <= 20': [0, 1]}]}]}]}"
      ]
     },
     "execution_count": 234,
     "metadata": {},
     "output_type": "execute_result"
    }
   ],
   "source": [
    "id3_dt.tree"
   ]
  },
  {
   "cell_type": "markdown",
   "metadata": {
    "id": "IaDoqFwLZaii"
   },
   "source": [
    "# Compare with Sklearn Decision Tree"
   ]
  },
  {
   "cell_type": "markdown",
   "metadata": {
    "id": "DLtCd6LKZaij"
   },
   "source": [
    "Sklearn decision tree implementation can't handle categorical data \n",
    "\n",
    "\n",
    "https://github.com/scikit-learn/scikit-learn/issues/5442\n",
    "\n",
    "https://stackoverflow.com/questions/38108832/passing-categorical-data-to-sklearn-decision-tree"
   ]
  },
  {
   "cell_type": "code",
   "execution_count": 259,
   "metadata": {
    "id": "JnBN_WMoZaij",
    "scrolled": true
   },
   "outputs": [],
   "source": [
    "X_train , X_test , y_train , y_test = train_test_split(X,y,test_size = 0.2 , random_state = 75, shuffle=True)\n",
    "X_train = pd.get_dummies(X_train,drop_first=True)\n",
    "X_test = pd.get_dummies(X_test,drop_first=True)\n",
    "X_test = X_test.reindex(columns = X_train.columns, fill_value=0)\n",
    " \n"
   ]
  },
  {
   "cell_type": "code",
   "execution_count": 260,
   "metadata": {
    "id": "1w8ab6GIZaim",
    "outputId": "9b16a5bc-4731-4621-aa49-26511a397721"
   },
   "outputs": [
    {
     "data": {
      "text/html": [
       "<style>#sk-container-id-6 {color: black;background-color: white;}#sk-container-id-6 pre{padding: 0;}#sk-container-id-6 div.sk-toggleable {background-color: white;}#sk-container-id-6 label.sk-toggleable__label {cursor: pointer;display: block;width: 100%;margin-bottom: 0;padding: 0.3em;box-sizing: border-box;text-align: center;}#sk-container-id-6 label.sk-toggleable__label-arrow:before {content: \"▸\";float: left;margin-right: 0.25em;color: #696969;}#sk-container-id-6 label.sk-toggleable__label-arrow:hover:before {color: black;}#sk-container-id-6 div.sk-estimator:hover label.sk-toggleable__label-arrow:before {color: black;}#sk-container-id-6 div.sk-toggleable__content {max-height: 0;max-width: 0;overflow: hidden;text-align: left;background-color: #f0f8ff;}#sk-container-id-6 div.sk-toggleable__content pre {margin: 0.2em;color: black;border-radius: 0.25em;background-color: #f0f8ff;}#sk-container-id-6 input.sk-toggleable__control:checked~div.sk-toggleable__content {max-height: 200px;max-width: 100%;overflow: auto;}#sk-container-id-6 input.sk-toggleable__control:checked~label.sk-toggleable__label-arrow:before {content: \"▾\";}#sk-container-id-6 div.sk-estimator input.sk-toggleable__control:checked~label.sk-toggleable__label {background-color: #d4ebff;}#sk-container-id-6 div.sk-label input.sk-toggleable__control:checked~label.sk-toggleable__label {background-color: #d4ebff;}#sk-container-id-6 input.sk-hidden--visually {border: 0;clip: rect(1px 1px 1px 1px);clip: rect(1px, 1px, 1px, 1px);height: 1px;margin: -1px;overflow: hidden;padding: 0;position: absolute;width: 1px;}#sk-container-id-6 div.sk-estimator {font-family: monospace;background-color: #f0f8ff;border: 1px dotted black;border-radius: 0.25em;box-sizing: border-box;margin-bottom: 0.5em;}#sk-container-id-6 div.sk-estimator:hover {background-color: #d4ebff;}#sk-container-id-6 div.sk-parallel-item::after {content: \"\";width: 100%;border-bottom: 1px solid gray;flex-grow: 1;}#sk-container-id-6 div.sk-label:hover label.sk-toggleable__label {background-color: #d4ebff;}#sk-container-id-6 div.sk-serial::before {content: \"\";position: absolute;border-left: 1px solid gray;box-sizing: border-box;top: 0;bottom: 0;left: 50%;z-index: 0;}#sk-container-id-6 div.sk-serial {display: flex;flex-direction: column;align-items: center;background-color: white;padding-right: 0.2em;padding-left: 0.2em;position: relative;}#sk-container-id-6 div.sk-item {position: relative;z-index: 1;}#sk-container-id-6 div.sk-parallel {display: flex;align-items: stretch;justify-content: center;background-color: white;position: relative;}#sk-container-id-6 div.sk-item::before, #sk-container-id-6 div.sk-parallel-item::before {content: \"\";position: absolute;border-left: 1px solid gray;box-sizing: border-box;top: 0;bottom: 0;left: 50%;z-index: -1;}#sk-container-id-6 div.sk-parallel-item {display: flex;flex-direction: column;z-index: 1;position: relative;background-color: white;}#sk-container-id-6 div.sk-parallel-item:first-child::after {align-self: flex-end;width: 50%;}#sk-container-id-6 div.sk-parallel-item:last-child::after {align-self: flex-start;width: 50%;}#sk-container-id-6 div.sk-parallel-item:only-child::after {width: 0;}#sk-container-id-6 div.sk-dashed-wrapped {border: 1px dashed gray;margin: 0 0.4em 0.5em 0.4em;box-sizing: border-box;padding-bottom: 0.4em;background-color: white;}#sk-container-id-6 div.sk-label label {font-family: monospace;font-weight: bold;display: inline-block;line-height: 1.2em;}#sk-container-id-6 div.sk-label-container {text-align: center;}#sk-container-id-6 div.sk-container {/* jupyter's `normalize.less` sets `[hidden] { display: none; }` but bootstrap.min.css set `[hidden] { display: none !important; }` so we also need the `!important` here to be able to override the default hidden behavior on the sphinx rendered scikit-learn.org. See: https://github.com/scikit-learn/scikit-learn/issues/21755 */display: inline-block !important;position: relative;}#sk-container-id-6 div.sk-text-repr-fallback {display: none;}</style><div id=\"sk-container-id-6\" class=\"sk-top-container\"><div class=\"sk-text-repr-fallback\"><pre>DecisionTreeClassifier(criterion=&#x27;entropy&#x27;, max_depth=7)</pre><b>In a Jupyter environment, please rerun this cell to show the HTML representation or trust the notebook. <br />On GitHub, the HTML representation is unable to render, please try loading this page with nbviewer.org.</b></div><div class=\"sk-container\" hidden><div class=\"sk-item\"><div class=\"sk-estimator sk-toggleable\"><input class=\"sk-toggleable__control sk-hidden--visually\" id=\"sk-estimator-id-6\" type=\"checkbox\" checked><label for=\"sk-estimator-id-6\" class=\"sk-toggleable__label sk-toggleable__label-arrow\">DecisionTreeClassifier</label><div class=\"sk-toggleable__content\"><pre>DecisionTreeClassifier(criterion=&#x27;entropy&#x27;, max_depth=7)</pre></div></div></div></div></div>"
      ],
      "text/plain": [
       "DecisionTreeClassifier(criterion='entropy', max_depth=7)"
      ]
     },
     "execution_count": 260,
     "metadata": {},
     "output_type": "execute_result"
    }
   ],
   "source": [
    "clf = tree.DecisionTreeClassifier( criterion='entropy', max_depth = max_depth)\n",
    "clf.fit(X_train, y_train)"
   ]
  },
  {
   "cell_type": "code",
   "execution_count": 261,
   "metadata": {},
   "outputs": [
    {
     "name": "stdout",
     "output_type": "stream",
     "text": [
      "Accuracy: 85.0\n"
     ]
    }
   ],
   "source": [
    "y_pred = clf.predict(X_test)\n",
    "print(\"Accuracy:\",np.round(metrics.accuracy_score(y_test, y_pred)*100))"
   ]
  },
  {
   "cell_type": "markdown",
   "metadata": {
    "id": "Xz1zQu3kZaip"
   },
   "source": [
    "# Visualize the tree"
   ]
  },
  {
   "cell_type": "code",
   "execution_count": 256,
   "metadata": {},
   "outputs": [
    {
     "name": "stdout",
     "output_type": "stream",
     "text": [
      "|--- feature_30 <= 0.50\n",
      "|   |--- feature_2 <= 7055.50\n",
      "|   |   |--- feature_1 <= 12.50\n",
      "|   |   |   |--- feature_0 <= 28.50\n",
      "|   |   |   |   |--- feature_3 <= 2391.50\n",
      "|   |   |   |   |   |--- feature_4 <= 44.50\n",
      "|   |   |   |   |   |   |--- feature_0 <= 21.50\n",
      "|   |   |   |   |   |   |   |--- class: 0\n",
      "|   |   |   |   |   |   |--- feature_0 >  21.50\n",
      "|   |   |   |   |   |   |   |--- class: 0\n",
      "|   |   |   |   |   |--- feature_4 >  44.50\n",
      "|   |   |   |   |   |   |--- feature_38 <= 0.50\n",
      "|   |   |   |   |   |   |   |--- class: 0\n",
      "|   |   |   |   |   |   |--- feature_38 >  0.50\n",
      "|   |   |   |   |   |   |   |--- class: 0\n",
      "|   |   |   |   |--- feature_3 >  2391.50\n",
      "|   |   |   |   |   |--- class: 1\n",
      "|   |   |   |--- feature_0 >  28.50\n",
      "|   |   |   |   |--- feature_4 <= 40.50\n",
      "|   |   |   |   |   |--- feature_44 <= 0.50\n",
      "|   |   |   |   |   |   |--- feature_3 <= 2218.50\n",
      "|   |   |   |   |   |   |   |--- class: 0\n",
      "|   |   |   |   |   |   |--- feature_3 >  2218.50\n",
      "|   |   |   |   |   |   |   |--- class: 0\n",
      "|   |   |   |   |   |--- feature_44 >  0.50\n",
      "|   |   |   |   |   |   |--- feature_4 <= 37.50\n",
      "|   |   |   |   |   |   |   |--- class: 0\n",
      "|   |   |   |   |   |   |--- feature_4 >  37.50\n",
      "|   |   |   |   |   |   |   |--- class: 0\n",
      "|   |   |   |   |--- feature_4 >  40.50\n",
      "|   |   |   |   |   |--- feature_3 <= 2218.50\n",
      "|   |   |   |   |   |   |--- feature_2 <= 4668.50\n",
      "|   |   |   |   |   |   |   |--- class: 0\n",
      "|   |   |   |   |   |   |--- feature_2 >  4668.50\n",
      "|   |   |   |   |   |   |   |--- class: 0\n",
      "|   |   |   |   |   |--- feature_3 >  2218.50\n",
      "|   |   |   |   |   |   |--- feature_3 <= 2391.50\n",
      "|   |   |   |   |   |   |   |--- class: 0\n",
      "|   |   |   |   |   |   |--- feature_3 >  2391.50\n",
      "|   |   |   |   |   |   |   |--- class: 1\n",
      "|   |   |--- feature_1 >  12.50\n",
      "|   |   |   |--- feature_0 <= 27.50\n",
      "|   |   |   |   |--- feature_3 <= 2218.00\n",
      "|   |   |   |   |   |--- feature_4 <= 58.00\n",
      "|   |   |   |   |   |   |--- feature_0 <= 24.50\n",
      "|   |   |   |   |   |   |   |--- class: 0\n",
      "|   |   |   |   |   |   |--- feature_0 >  24.50\n",
      "|   |   |   |   |   |   |   |--- class: 0\n",
      "|   |   |   |   |   |--- feature_4 >  58.00\n",
      "|   |   |   |   |   |   |--- feature_50 <= 0.50\n",
      "|   |   |   |   |   |   |   |--- class: 0\n",
      "|   |   |   |   |   |   |--- feature_50 >  0.50\n",
      "|   |   |   |   |   |   |   |--- class: 1\n",
      "|   |   |   |   |--- feature_3 >  2218.00\n",
      "|   |   |   |   |   |--- feature_4 <= 50.00\n",
      "|   |   |   |   |   |   |--- feature_5 <= 77366.00\n",
      "|   |   |   |   |   |   |   |--- class: 0\n",
      "|   |   |   |   |   |   |--- feature_5 >  77366.00\n",
      "|   |   |   |   |   |   |   |--- class: 1\n",
      "|   |   |   |   |   |--- feature_4 >  50.00\n",
      "|   |   |   |   |   |   |--- class: 0\n",
      "|   |   |   |--- feature_0 >  27.50\n",
      "|   |   |   |   |--- feature_4 <= 43.50\n",
      "|   |   |   |   |   |--- feature_3 <= 2365.50\n",
      "|   |   |   |   |   |   |--- feature_0 <= 33.50\n",
      "|   |   |   |   |   |   |   |--- class: 0\n",
      "|   |   |   |   |   |   |--- feature_0 >  33.50\n",
      "|   |   |   |   |   |   |   |--- class: 0\n",
      "|   |   |   |   |   |--- feature_3 >  2365.50\n",
      "|   |   |   |   |   |   |--- feature_3 <= 3726.50\n",
      "|   |   |   |   |   |   |   |--- class: 1\n",
      "|   |   |   |   |   |   |--- feature_3 >  3726.50\n",
      "|   |   |   |   |   |   |   |--- class: 0\n",
      "|   |   |   |   |--- feature_4 >  43.50\n",
      "|   |   |   |   |   |--- feature_3 <= 2391.50\n",
      "|   |   |   |   |   |   |--- feature_38 <= 0.50\n",
      "|   |   |   |   |   |   |   |--- class: 0\n",
      "|   |   |   |   |   |   |--- feature_38 >  0.50\n",
      "|   |   |   |   |   |   |   |--- class: 0\n",
      "|   |   |   |   |   |--- feature_3 >  2391.50\n",
      "|   |   |   |   |   |   |--- class: 1\n",
      "|   |--- feature_2 >  7055.50\n",
      "|   |   |--- feature_2 <= 8296.00\n",
      "|   |   |   |--- feature_2 <= 7436.50\n",
      "|   |   |   |   |--- class: 1\n",
      "|   |   |   |--- feature_2 >  7436.50\n",
      "|   |   |   |   |--- feature_1 <= 13.50\n",
      "|   |   |   |   |   |--- class: 0\n",
      "|   |   |   |   |--- feature_1 >  13.50\n",
      "|   |   |   |   |   |--- class: 1\n",
      "|   |   |--- feature_2 >  8296.00\n",
      "|   |   |   |--- feature_0 <= 20.50\n",
      "|   |   |   |   |--- feature_5 <= 165776.50\n",
      "|   |   |   |   |   |--- class: 1\n",
      "|   |   |   |   |--- feature_5 >  165776.50\n",
      "|   |   |   |   |   |--- class: 0\n",
      "|   |   |   |--- feature_0 >  20.50\n",
      "|   |   |   |   |--- feature_11 <= 0.50\n",
      "|   |   |   |   |   |--- class: 1\n",
      "|   |   |   |   |--- feature_11 >  0.50\n",
      "|   |   |   |   |   |--- feature_0 <= 54.50\n",
      "|   |   |   |   |   |   |--- class: 1\n",
      "|   |   |   |   |   |--- feature_0 >  54.50\n",
      "|   |   |   |   |   |   |--- feature_2 <= 30961.50\n",
      "|   |   |   |   |   |   |   |--- class: 1\n",
      "|   |   |   |   |   |   |--- feature_2 >  30961.50\n",
      "|   |   |   |   |   |   |   |--- class: 0\n",
      "|--- feature_30 >  0.50\n",
      "|   |--- feature_1 <= 12.50\n",
      "|   |   |--- feature_2 <= 5095.50\n",
      "|   |   |   |--- feature_1 <= 7.50\n",
      "|   |   |   |   |--- feature_4 <= 40.50\n",
      "|   |   |   |   |   |--- feature_0 <= 37.50\n",
      "|   |   |   |   |   |   |--- feature_94 <= 0.50\n",
      "|   |   |   |   |   |   |   |--- class: 0\n",
      "|   |   |   |   |   |   |--- feature_94 >  0.50\n",
      "|   |   |   |   |   |   |   |--- class: 1\n",
      "|   |   |   |   |   |--- feature_0 >  37.50\n",
      "|   |   |   |   |   |   |--- feature_0 <= 73.50\n",
      "|   |   |   |   |   |   |   |--- class: 0\n",
      "|   |   |   |   |   |   |--- feature_0 >  73.50\n",
      "|   |   |   |   |   |   |   |--- class: 0\n",
      "|   |   |   |   |--- feature_4 >  40.50\n",
      "|   |   |   |   |   |--- feature_42 <= 0.50\n",
      "|   |   |   |   |   |   |--- feature_0 <= 43.50\n",
      "|   |   |   |   |   |   |   |--- class: 0\n",
      "|   |   |   |   |   |   |--- feature_0 >  43.50\n",
      "|   |   |   |   |   |   |   |--- class: 0\n",
      "|   |   |   |   |   |--- feature_42 >  0.50\n",
      "|   |   |   |   |   |   |--- class: 0\n",
      "|   |   |   |--- feature_1 >  7.50\n",
      "|   |   |   |   |--- feature_3 <= 1846.00\n",
      "|   |   |   |   |   |--- feature_0 <= 29.50\n",
      "|   |   |   |   |   |   |--- feature_0 <= 23.50\n",
      "|   |   |   |   |   |   |   |--- class: 0\n",
      "|   |   |   |   |   |   |--- feature_0 >  23.50\n",
      "|   |   |   |   |   |   |   |--- class: 0\n",
      "|   |   |   |   |   |--- feature_0 >  29.50\n",
      "|   |   |   |   |   |   |--- feature_38 <= 0.50\n",
      "|   |   |   |   |   |   |   |--- class: 0\n",
      "|   |   |   |   |   |   |--- feature_38 >  0.50\n",
      "|   |   |   |   |   |   |   |--- class: 1\n",
      "|   |   |   |   |--- feature_3 >  1846.00\n",
      "|   |   |   |   |   |--- feature_3 <= 1989.50\n",
      "|   |   |   |   |   |   |--- feature_3 <= 1894.50\n",
      "|   |   |   |   |   |   |   |--- class: 1\n",
      "|   |   |   |   |   |   |--- feature_3 >  1894.50\n",
      "|   |   |   |   |   |   |   |--- class: 1\n",
      "|   |   |   |   |   |--- feature_3 >  1989.50\n",
      "|   |   |   |   |   |   |--- feature_3 <= 2161.50\n",
      "|   |   |   |   |   |   |   |--- class: 0\n",
      "|   |   |   |   |   |   |--- feature_3 >  2161.50\n",
      "|   |   |   |   |   |   |   |--- class: 0\n",
      "|   |   |--- feature_2 >  5095.50\n",
      "|   |   |   |--- feature_0 <= 63.50\n",
      "|   |   |   |   |--- feature_2 <= 21045.50\n",
      "|   |   |   |   |   |--- class: 1\n",
      "|   |   |   |   |--- feature_2 >  21045.50\n",
      "|   |   |   |   |   |--- feature_2 <= 70654.50\n",
      "|   |   |   |   |   |   |--- class: 0\n",
      "|   |   |   |   |   |--- feature_2 >  70654.50\n",
      "|   |   |   |   |   |   |--- class: 1\n",
      "|   |   |   |--- feature_0 >  63.50\n",
      "|   |   |   |   |--- feature_2 <= 10585.50\n",
      "|   |   |   |   |   |--- feature_2 <= 9976.00\n",
      "|   |   |   |   |   |   |--- feature_2 <= 7032.50\n",
      "|   |   |   |   |   |   |   |--- class: 1\n",
      "|   |   |   |   |   |   |--- feature_2 >  7032.50\n",
      "|   |   |   |   |   |   |   |--- class: 1\n",
      "|   |   |   |   |   |--- feature_2 >  9976.00\n",
      "|   |   |   |   |   |   |--- class: 0\n",
      "|   |   |   |   |--- feature_2 >  10585.50\n",
      "|   |   |   |   |   |--- class: 1\n",
      "|   |--- feature_1 >  12.50\n",
      "|   |   |--- feature_2 <= 5095.50\n",
      "|   |   |   |--- feature_3 <= 1794.00\n",
      "|   |   |   |   |--- feature_4 <= 31.00\n",
      "|   |   |   |   |   |--- feature_53 <= 0.50\n",
      "|   |   |   |   |   |   |--- feature_0 <= 29.50\n",
      "|   |   |   |   |   |   |   |--- class: 0\n",
      "|   |   |   |   |   |   |--- feature_0 >  29.50\n",
      "|   |   |   |   |   |   |   |--- class: 0\n",
      "|   |   |   |   |   |--- feature_53 >  0.50\n",
      "|   |   |   |   |   |   |--- feature_2 <= 3583.50\n",
      "|   |   |   |   |   |   |   |--- class: 1\n",
      "|   |   |   |   |   |   |--- feature_2 >  3583.50\n",
      "|   |   |   |   |   |   |   |--- class: 0\n",
      "|   |   |   |   |--- feature_4 >  31.00\n",
      "|   |   |   |   |   |--- feature_0 <= 33.50\n",
      "|   |   |   |   |   |   |--- feature_0 <= 25.50\n",
      "|   |   |   |   |   |   |   |--- class: 0\n",
      "|   |   |   |   |   |   |--- feature_0 >  25.50\n",
      "|   |   |   |   |   |   |   |--- class: 1\n",
      "|   |   |   |   |   |--- feature_0 >  33.50\n",
      "|   |   |   |   |   |   |--- feature_2 <= 4447.00\n",
      "|   |   |   |   |   |   |   |--- class: 1\n",
      "|   |   |   |   |   |   |--- feature_2 >  4447.00\n",
      "|   |   |   |   |   |   |   |--- class: 0\n",
      "|   |   |   |--- feature_3 >  1794.00\n",
      "|   |   |   |   |--- feature_3 <= 1989.50\n",
      "|   |   |   |   |   |--- feature_9 <= 0.50\n",
      "|   |   |   |   |   |   |--- feature_0 <= 28.50\n",
      "|   |   |   |   |   |   |   |--- class: 1\n",
      "|   |   |   |   |   |   |--- feature_0 >  28.50\n",
      "|   |   |   |   |   |   |   |--- class: 1\n",
      "|   |   |   |   |   |--- feature_9 >  0.50\n",
      "|   |   |   |   |   |   |--- class: 1\n",
      "|   |   |   |   |--- feature_3 >  1989.50\n",
      "|   |   |   |   |   |--- feature_3 <= 2168.50\n",
      "|   |   |   |   |   |   |--- class: 0\n",
      "|   |   |   |   |   |--- feature_3 >  2168.50\n",
      "|   |   |   |   |   |   |--- feature_3 <= 2384.50\n",
      "|   |   |   |   |   |   |   |--- class: 1\n",
      "|   |   |   |   |   |   |--- feature_3 >  2384.50\n",
      "|   |   |   |   |   |   |   |--- class: 1\n",
      "|   |   |--- feature_2 >  5095.50\n",
      "|   |   |   |--- feature_0 <= 62.50\n",
      "|   |   |   |   |--- class: 1\n",
      "|   |   |   |--- feature_0 >  62.50\n",
      "|   |   |   |   |--- feature_11 <= 0.50\n",
      "|   |   |   |   |   |--- feature_4 <= 23.00\n",
      "|   |   |   |   |   |   |--- feature_0 <= 66.50\n",
      "|   |   |   |   |   |   |   |--- class: 0\n",
      "|   |   |   |   |   |   |--- feature_0 >  66.50\n",
      "|   |   |   |   |   |   |   |--- class: 1\n",
      "|   |   |   |   |   |--- feature_4 >  23.00\n",
      "|   |   |   |   |   |   |--- class: 1\n",
      "|   |   |   |   |--- feature_11 >  0.50\n",
      "|   |   |   |   |   |--- feature_4 <= 47.50\n",
      "|   |   |   |   |   |   |--- class: 1\n",
      "|   |   |   |   |   |--- feature_4 >  47.50\n",
      "|   |   |   |   |   |   |--- feature_27 <= 0.50\n",
      "|   |   |   |   |   |   |   |--- class: 0\n",
      "|   |   |   |   |   |   |--- feature_27 >  0.50\n",
      "|   |   |   |   |   |   |   |--- class: 1\n",
      "\n"
     ]
    }
   ],
   "source": [
    "text_representation = tree.export_text(clf)\n",
    "print(text_representation)"
   ]
  },
  {
   "cell_type": "markdown",
   "metadata": {
    "id": "8lQSQNviZai5"
   },
   "source": [
    "# What the most important hyper parameters in DT ?"
   ]
  },
  {
   "cell_type": "markdown",
   "metadata": {
    "id": "CHJ4I4XGZai6"
   },
   "source": [
    "- ``criterion`` : optional (default=”gini”) or Choose attribute selection measure: This parameter allows us to use the different-different attribute selection measure. Supported criteria are “gini” for the Gini index and “entropy” for the information gain.\n",
    "\n",
    "\n",
    "- ``splitter`` : string, optional (default=”best”) or Split Strategy: This parameter allows us to choose the split strategy. Supported strategies are “best” to choose the best split and “random” to choose the best random split.\n",
    "\n",
    "\n",
    "- ``max_depth`` : int or None, optional (default=None) or Maximum Depth of a Tree: The maximum depth of the tree. If None, then nodes are expanded until all the leaves contain less than min_samples_split samples. The higher value of maximum depth causes overfitting, and a lower value causes underfitting \n",
    "\n",
    "\n",
    "- ``min_samples_split`` : int or float, default=2 . The minimum number of samples required to split an internal node\n",
    "\n",
    "\n",
    "- ``class_weight``: dict, list of dict or “balanced”, default=None"
   ]
  },
  {
   "cell_type": "markdown",
   "metadata": {
    "id": "BCmaaM2tZai7"
   },
   "source": [
    "## Hyperparameter tuning\n",
    "\n",
    "https://scikit-learn.org/stable/modules/generated/sklearn.tree.DecisionTreeClassifier.html"
   ]
  },
  {
   "cell_type": "code",
   "execution_count": 240,
   "metadata": {
    "colab": {
     "referenced_widgets": [
      "81032e5d9c4c4b70847c51484a88a791"
     ]
    },
    "id": "qgC8UcFiZai8",
    "outputId": "4203b8de-7d22-470a-b612-453e1d0a01d1"
   },
   "outputs": [
    {
     "name": "stdout",
     "output_type": "stream",
     "text": [
      "Start fitting the data\n"
     ]
    },
    {
     "data": {
      "application/vnd.jupyter.widget-view+json": {
       "model_id": "322ad8ae41a7404286b8699f6ec5ddc9",
       "version_major": 2,
       "version_minor": 0
      },
      "text/plain": [
       "  0%|          | 0/4 [00:00<?, ?it/s]"
      ]
     },
     "metadata": {},
     "output_type": "display_data"
    },
    {
     "name": "stdout",
     "output_type": "stream",
     "text": [
      "score for 2 fold CV is : 0.8417708546833368\n",
      "Best result {'criterion': 'entropy', 'max_depth': 8}\n",
      "score for 3 fold CV is : 0.8425906948145112\n",
      "Best result {'criterion': 'gini', 'max_depth': 8}\n",
      "score for 4 fold CV is : 0.8425906948145112\n",
      "Best result {'criterion': 'gini', 'max_depth': 8}\n",
      "score for 5 fold CV is : 0.8425906948145112\n",
      "Best result {'criterion': 'gini', 'max_depth': 8}\n"
     ]
    }
   ],
   "source": [
    "clf = tree.DecisionTreeClassifier()\n",
    "\n",
    "print(\"Start fitting the data\")\n",
    "\n",
    "hp = {\"criterion\":['gini','entropy'], 'max_depth':np.arange(3,9)}\n",
    "\n",
    "for cv in tqdm(range(2,6)):\n",
    "    grid = GridSearchCV(clf, param_grid  = hp  , cv = cv)\n",
    "    grid.fit(X_train,y_train)\n",
    "    print(f\"score for {cv} fold CV is : {grid.score(X_test,y_test)}\")\n",
    "    print(f\"Best result {grid.best_params_}\")"
   ]
  },
  {
   "cell_type": "markdown",
   "metadata": {
    "id": "4kHW8ps2ZajA"
   },
   "source": [
    "# Avoiding Overfitting :\n",
    "\n",
    "1. Acquire more training data\n",
    "\n",
    "\n",
    "2. Remove irrelevant attributes\n",
    "\n",
    "\n",
    "3. **Grow full tree, then post-prune** \n",
    "\n",
    "\n",
    "4. Ensemble learning -> Random Forests\n"
   ]
  },
  {
   "cell_type": "markdown",
   "metadata": {
    "id": "cdl1AO03ZajB"
   },
   "source": [
    "## Pruning"
   ]
  },
  {
   "cell_type": "markdown",
   "metadata": {
    "id": "r-Emt5vWZajC"
   },
   "source": [
    "We can perform the pruning either before building the fully grown tree **(pre-pruning)** or after building it **(post-pruning)**.\n",
    "\n",
    "- We have already performed pre-pruning by specifiying the maximum depth in our implementation, or by controlling the different hyperparameters in sklearn implementation such as the min_samples_split and max_depth.\n",
    "\n",
    "\n",
    "- However, this approach is not preferred or shouldn't be used alone, because a seemingly worthless split early on in the tree might be followed by a very good split.\n",
    "\n",
    "\n",
    "- Therefore, it should be combined with post-pruning, also known as **cost-complexity pruning and as weakest link pruning**."
   ]
  },
  {
   "cell_type": "markdown",
   "metadata": {
    "id": "12RmMUP8ZajD"
   },
   "source": [
    "We can perform post-purning to prune the fully grown tree in a **bottom-up manner**.\n",
    "\n",
    "- The idea is basically about, starting at the leaves, each node is replaced with its most popular class.\n",
    "\n",
    "\n",
    "- If the prediction accuracy is not affected then the change is kept. \n",
    "\n",
    "\n",
    "\n",
    "We can also explain it as follows :\n",
    "\n",
    "- Rather than considering every possible subtree, we consider a sequence of trees indexed by a nonnegative tuning parameter α (as α increases, more branches get pruned from the tree).\n",
    "\n",
    "\n",
    "- For each value of α there corresponds a subtree where $$T ⊂ T_0$$ such that: <br>\n",
    " $$Cost(T) = Error(T_0) + α |T|$$ is small as possible.\n",
    "\n",
    "\n",
    "- The variable $|T|$ indicates the number of terminal nodes of the tree T.\n",
    "\n",
    "\n",
    "- The tuning parameter α controls a trade-off between the subtree’s complexity and its fit to the training data. When α = 0, then the subtree T will simply equal $T_0$ as we increase α from zero, branches get pruned from the tree."
   ]
  },
  {
   "cell_type": "code",
   "execution_count": 247,
   "metadata": {
    "id": "CgZ8Oz8xZajE",
    "outputId": "9e2106d1-65a9-4d45-91fc-cbea389b5328"
   },
   "outputs": [
    {
     "data": {
      "text/html": [
       "<div>\n",
       "<style scoped>\n",
       "    .dataframe tbody tr th:only-of-type {\n",
       "        vertical-align: middle;\n",
       "    }\n",
       "\n",
       "    .dataframe tbody tr th {\n",
       "        vertical-align: top;\n",
       "    }\n",
       "\n",
       "    .dataframe thead th {\n",
       "        text-align: right;\n",
       "    }\n",
       "</style>\n",
       "<table border=\"1\" class=\"dataframe\">\n",
       "  <thead>\n",
       "    <tr style=\"text-align: right;\">\n",
       "      <th></th>\n",
       "      <th>age</th>\n",
       "      <th>educational-num</th>\n",
       "      <th>capital-gain</th>\n",
       "      <th>capital-loss</th>\n",
       "      <th>hours-per-week</th>\n",
       "      <th>fnlwgt</th>\n",
       "      <th>workclass_Federal-gov</th>\n",
       "      <th>workclass_Local-gov</th>\n",
       "      <th>workclass_Never-worked</th>\n",
       "      <th>workclass_Private</th>\n",
       "      <th>...</th>\n",
       "      <th>native-country_Puerto-Rico</th>\n",
       "      <th>native-country_Scotland</th>\n",
       "      <th>native-country_South</th>\n",
       "      <th>native-country_Taiwan</th>\n",
       "      <th>native-country_Thailand</th>\n",
       "      <th>native-country_Trinadad&amp;Tobago</th>\n",
       "      <th>native-country_United-States</th>\n",
       "      <th>native-country_Vietnam</th>\n",
       "      <th>native-country_Yugoslavia</th>\n",
       "      <th>gender_Male</th>\n",
       "    </tr>\n",
       "  </thead>\n",
       "  <tbody>\n",
       "    <tr>\n",
       "      <th>40927</th>\n",
       "      <td>35</td>\n",
       "      <td>9</td>\n",
       "      <td>0</td>\n",
       "      <td>0</td>\n",
       "      <td>40</td>\n",
       "      <td>144608</td>\n",
       "      <td>0</td>\n",
       "      <td>0</td>\n",
       "      <td>0</td>\n",
       "      <td>1</td>\n",
       "      <td>...</td>\n",
       "      <td>0</td>\n",
       "      <td>0</td>\n",
       "      <td>0</td>\n",
       "      <td>0</td>\n",
       "      <td>0</td>\n",
       "      <td>0</td>\n",
       "      <td>1</td>\n",
       "      <td>0</td>\n",
       "      <td>0</td>\n",
       "      <td>1</td>\n",
       "    </tr>\n",
       "    <tr>\n",
       "      <th>24222</th>\n",
       "      <td>52</td>\n",
       "      <td>11</td>\n",
       "      <td>0</td>\n",
       "      <td>0</td>\n",
       "      <td>32</td>\n",
       "      <td>84451</td>\n",
       "      <td>0</td>\n",
       "      <td>0</td>\n",
       "      <td>0</td>\n",
       "      <td>1</td>\n",
       "      <td>...</td>\n",
       "      <td>0</td>\n",
       "      <td>0</td>\n",
       "      <td>0</td>\n",
       "      <td>0</td>\n",
       "      <td>0</td>\n",
       "      <td>0</td>\n",
       "      <td>1</td>\n",
       "      <td>0</td>\n",
       "      <td>0</td>\n",
       "      <td>1</td>\n",
       "    </tr>\n",
       "    <tr>\n",
       "      <th>7942</th>\n",
       "      <td>52</td>\n",
       "      <td>9</td>\n",
       "      <td>0</td>\n",
       "      <td>0</td>\n",
       "      <td>60</td>\n",
       "      <td>30908</td>\n",
       "      <td>0</td>\n",
       "      <td>0</td>\n",
       "      <td>0</td>\n",
       "      <td>1</td>\n",
       "      <td>...</td>\n",
       "      <td>0</td>\n",
       "      <td>0</td>\n",
       "      <td>0</td>\n",
       "      <td>0</td>\n",
       "      <td>0</td>\n",
       "      <td>0</td>\n",
       "      <td>1</td>\n",
       "      <td>0</td>\n",
       "      <td>0</td>\n",
       "      <td>1</td>\n",
       "    </tr>\n",
       "    <tr>\n",
       "      <th>25724</th>\n",
       "      <td>38</td>\n",
       "      <td>9</td>\n",
       "      <td>0</td>\n",
       "      <td>0</td>\n",
       "      <td>40</td>\n",
       "      <td>169672</td>\n",
       "      <td>0</td>\n",
       "      <td>0</td>\n",
       "      <td>0</td>\n",
       "      <td>1</td>\n",
       "      <td>...</td>\n",
       "      <td>0</td>\n",
       "      <td>0</td>\n",
       "      <td>0</td>\n",
       "      <td>0</td>\n",
       "      <td>0</td>\n",
       "      <td>0</td>\n",
       "      <td>1</td>\n",
       "      <td>0</td>\n",
       "      <td>0</td>\n",
       "      <td>1</td>\n",
       "    </tr>\n",
       "    <tr>\n",
       "      <th>1880</th>\n",
       "      <td>23</td>\n",
       "      <td>10</td>\n",
       "      <td>0</td>\n",
       "      <td>1504</td>\n",
       "      <td>40</td>\n",
       "      <td>121568</td>\n",
       "      <td>0</td>\n",
       "      <td>0</td>\n",
       "      <td>0</td>\n",
       "      <td>0</td>\n",
       "      <td>...</td>\n",
       "      <td>0</td>\n",
       "      <td>0</td>\n",
       "      <td>0</td>\n",
       "      <td>0</td>\n",
       "      <td>0</td>\n",
       "      <td>0</td>\n",
       "      <td>1</td>\n",
       "      <td>0</td>\n",
       "      <td>0</td>\n",
       "      <td>1</td>\n",
       "    </tr>\n",
       "    <tr>\n",
       "      <th>...</th>\n",
       "      <td>...</td>\n",
       "      <td>...</td>\n",
       "      <td>...</td>\n",
       "      <td>...</td>\n",
       "      <td>...</td>\n",
       "      <td>...</td>\n",
       "      <td>...</td>\n",
       "      <td>...</td>\n",
       "      <td>...</td>\n",
       "      <td>...</td>\n",
       "      <td>...</td>\n",
       "      <td>...</td>\n",
       "      <td>...</td>\n",
       "      <td>...</td>\n",
       "      <td>...</td>\n",
       "      <td>...</td>\n",
       "      <td>...</td>\n",
       "      <td>...</td>\n",
       "      <td>...</td>\n",
       "      <td>...</td>\n",
       "      <td>...</td>\n",
       "    </tr>\n",
       "    <tr>\n",
       "      <th>3579</th>\n",
       "      <td>38</td>\n",
       "      <td>5</td>\n",
       "      <td>0</td>\n",
       "      <td>0</td>\n",
       "      <td>40</td>\n",
       "      <td>61343</td>\n",
       "      <td>0</td>\n",
       "      <td>0</td>\n",
       "      <td>0</td>\n",
       "      <td>1</td>\n",
       "      <td>...</td>\n",
       "      <td>0</td>\n",
       "      <td>0</td>\n",
       "      <td>0</td>\n",
       "      <td>0</td>\n",
       "      <td>0</td>\n",
       "      <td>0</td>\n",
       "      <td>1</td>\n",
       "      <td>0</td>\n",
       "      <td>0</td>\n",
       "      <td>1</td>\n",
       "    </tr>\n",
       "    <tr>\n",
       "      <th>37955</th>\n",
       "      <td>23</td>\n",
       "      <td>10</td>\n",
       "      <td>0</td>\n",
       "      <td>0</td>\n",
       "      <td>40</td>\n",
       "      <td>312017</td>\n",
       "      <td>0</td>\n",
       "      <td>0</td>\n",
       "      <td>0</td>\n",
       "      <td>1</td>\n",
       "      <td>...</td>\n",
       "      <td>0</td>\n",
       "      <td>0</td>\n",
       "      <td>0</td>\n",
       "      <td>0</td>\n",
       "      <td>0</td>\n",
       "      <td>0</td>\n",
       "      <td>1</td>\n",
       "      <td>0</td>\n",
       "      <td>0</td>\n",
       "      <td>1</td>\n",
       "    </tr>\n",
       "    <tr>\n",
       "      <th>42013</th>\n",
       "      <td>64</td>\n",
       "      <td>16</td>\n",
       "      <td>0</td>\n",
       "      <td>0</td>\n",
       "      <td>60</td>\n",
       "      <td>98586</td>\n",
       "      <td>0</td>\n",
       "      <td>0</td>\n",
       "      <td>0</td>\n",
       "      <td>1</td>\n",
       "      <td>...</td>\n",
       "      <td>0</td>\n",
       "      <td>0</td>\n",
       "      <td>0</td>\n",
       "      <td>0</td>\n",
       "      <td>0</td>\n",
       "      <td>0</td>\n",
       "      <td>1</td>\n",
       "      <td>0</td>\n",
       "      <td>0</td>\n",
       "      <td>1</td>\n",
       "    </tr>\n",
       "    <tr>\n",
       "      <th>19345</th>\n",
       "      <td>41</td>\n",
       "      <td>9</td>\n",
       "      <td>0</td>\n",
       "      <td>0</td>\n",
       "      <td>40</td>\n",
       "      <td>79797</td>\n",
       "      <td>0</td>\n",
       "      <td>0</td>\n",
       "      <td>0</td>\n",
       "      <td>1</td>\n",
       "      <td>...</td>\n",
       "      <td>0</td>\n",
       "      <td>0</td>\n",
       "      <td>0</td>\n",
       "      <td>0</td>\n",
       "      <td>0</td>\n",
       "      <td>0</td>\n",
       "      <td>0</td>\n",
       "      <td>0</td>\n",
       "      <td>0</td>\n",
       "      <td>1</td>\n",
       "    </tr>\n",
       "    <tr>\n",
       "      <th>47217</th>\n",
       "      <td>54</td>\n",
       "      <td>7</td>\n",
       "      <td>0</td>\n",
       "      <td>0</td>\n",
       "      <td>40</td>\n",
       "      <td>154949</td>\n",
       "      <td>0</td>\n",
       "      <td>0</td>\n",
       "      <td>0</td>\n",
       "      <td>1</td>\n",
       "      <td>...</td>\n",
       "      <td>0</td>\n",
       "      <td>0</td>\n",
       "      <td>0</td>\n",
       "      <td>0</td>\n",
       "      <td>0</td>\n",
       "      <td>0</td>\n",
       "      <td>1</td>\n",
       "      <td>0</td>\n",
       "      <td>0</td>\n",
       "      <td>0</td>\n",
       "    </tr>\n",
       "  </tbody>\n",
       "</table>\n",
       "<p>9758 rows × 99 columns</p>\n",
       "</div>"
      ],
      "text/plain": [
       "       age  educational-num  capital-gain  capital-loss  hours-per-week  \\\n",
       "40927   35                9             0             0              40   \n",
       "24222   52               11             0             0              32   \n",
       "7942    52                9             0             0              60   \n",
       "25724   38                9             0             0              40   \n",
       "1880    23               10             0          1504              40   \n",
       "...    ...              ...           ...           ...             ...   \n",
       "3579    38                5             0             0              40   \n",
       "37955   23               10             0             0              40   \n",
       "42013   64               16             0             0              60   \n",
       "19345   41                9             0             0              40   \n",
       "47217   54                7             0             0              40   \n",
       "\n",
       "       fnlwgt  workclass_Federal-gov  workclass_Local-gov  \\\n",
       "40927  144608                      0                    0   \n",
       "24222   84451                      0                    0   \n",
       "7942    30908                      0                    0   \n",
       "25724  169672                      0                    0   \n",
       "1880   121568                      0                    0   \n",
       "...       ...                    ...                  ...   \n",
       "3579    61343                      0                    0   \n",
       "37955  312017                      0                    0   \n",
       "42013   98586                      0                    0   \n",
       "19345   79797                      0                    0   \n",
       "47217  154949                      0                    0   \n",
       "\n",
       "       workclass_Never-worked  workclass_Private  ...  \\\n",
       "40927                       0                  1  ...   \n",
       "24222                       0                  1  ...   \n",
       "7942                        0                  1  ...   \n",
       "25724                       0                  1  ...   \n",
       "1880                        0                  0  ...   \n",
       "...                       ...                ...  ...   \n",
       "3579                        0                  1  ...   \n",
       "37955                       0                  1  ...   \n",
       "42013                       0                  1  ...   \n",
       "19345                       0                  1  ...   \n",
       "47217                       0                  1  ...   \n",
       "\n",
       "       native-country_Puerto-Rico  native-country_Scotland  \\\n",
       "40927                           0                        0   \n",
       "24222                           0                        0   \n",
       "7942                            0                        0   \n",
       "25724                           0                        0   \n",
       "1880                            0                        0   \n",
       "...                           ...                      ...   \n",
       "3579                            0                        0   \n",
       "37955                           0                        0   \n",
       "42013                           0                        0   \n",
       "19345                           0                        0   \n",
       "47217                           0                        0   \n",
       "\n",
       "       native-country_South  native-country_Taiwan  native-country_Thailand  \\\n",
       "40927                     0                      0                        0   \n",
       "24222                     0                      0                        0   \n",
       "7942                      0                      0                        0   \n",
       "25724                     0                      0                        0   \n",
       "1880                      0                      0                        0   \n",
       "...                     ...                    ...                      ...   \n",
       "3579                      0                      0                        0   \n",
       "37955                     0                      0                        0   \n",
       "42013                     0                      0                        0   \n",
       "19345                     0                      0                        0   \n",
       "47217                     0                      0                        0   \n",
       "\n",
       "       native-country_Trinadad&Tobago  native-country_United-States  \\\n",
       "40927                               0                             1   \n",
       "24222                               0                             1   \n",
       "7942                                0                             1   \n",
       "25724                               0                             1   \n",
       "1880                                0                             1   \n",
       "...                               ...                           ...   \n",
       "3579                                0                             1   \n",
       "37955                               0                             1   \n",
       "42013                               0                             1   \n",
       "19345                               0                             0   \n",
       "47217                               0                             1   \n",
       "\n",
       "       native-country_Vietnam  native-country_Yugoslavia  gender_Male  \n",
       "40927                       0                          0            1  \n",
       "24222                       0                          0            1  \n",
       "7942                        0                          0            1  \n",
       "25724                       0                          0            1  \n",
       "1880                        0                          0            1  \n",
       "...                       ...                        ...          ...  \n",
       "3579                        0                          0            1  \n",
       "37955                       0                          0            1  \n",
       "42013                       0                          0            1  \n",
       "19345                       0                          0            1  \n",
       "47217                       0                          0            0  \n",
       "\n",
       "[9758 rows x 99 columns]"
      ]
     },
     "execution_count": 247,
     "metadata": {},
     "output_type": "execute_result"
    }
   ],
   "source": [
    "X_train , X_test , y_train , y_test = train_test_split(X,y,test_size = 0.2 , random_state = 75, shuffle =True)\n",
    "\n",
    "X_train = pd.get_dummies(X_train,drop_first=True)\n",
    "X_test = pd.get_dummies(X_test,drop_first=True)\n",
    "X_test = X_test.reindex(columns = X_train.columns, fill_value=0)\n",
    " \n"
   ]
  },
  {
   "cell_type": "code",
   "execution_count": 248,
   "metadata": {},
   "outputs": [],
   "source": [
    "clf = tree.DecisionTreeClassifier( criterion='entropy', max_depth = max_depth)\n",
    "path = clf.cost_complexity_pruning_path(X_train, y_train) ## Pruning !"
   ]
  },
  {
   "cell_type": "code",
   "execution_count": 249,
   "metadata": {},
   "outputs": [
    {
     "data": {
      "text/plain": [
       "Text(0.5, 1.0, 'Total Impurity vs effective alpha for training set')"
      ]
     },
     "execution_count": 249,
     "metadata": {},
     "output_type": "execute_result"
    },
    {
     "data": {
      "image/png": "[encoded data removed]",
      "text/plain": [
       "<Figure size 720x720 with 1 Axes>"
      ]
     },
     "metadata": {
      "needs_background": "light"
     },
     "output_type": "display_data"
    }
   ],
   "source": [
    "ccp_alphas, impurities = path.ccp_alphas, path.impurities ## Alpha we have been talking about\n",
    "fig, ax = plt.subplots(figsize=(10,10))\n",
    "ax.plot(ccp_alphas[:-1], impurities[:-1], marker='o', drawstyle=\"steps-post\")\n",
    "ax.set_xlabel(\"effective alpha\")\n",
    "ax.set_ylabel(\"total impurity of leaves\")\n",
    "ax.set_title(\"Total Impurity vs effective alpha for training set\")"
   ]
  },
  {
   "cell_type": "markdown",
   "metadata": {
    "id": "fL73mGetZajH"
   },
   "source": [
    "Next, we train a decision tree using the effective ``alphas``. The last value in ``ccp_alphas`` is the alpha value that prunes the whole tree, leaving the tree, ``clfs[-1]``, with one node."
   ]
  },
  {
   "cell_type": "code",
   "execution_count": 250,
   "metadata": {
    "id": "HyY3Ir8-ZajI",
    "outputId": "1e25d502-3ee8-4f24-894e-8e55089badf2"
   },
   "outputs": [
    {
     "name": "stdout",
     "output_type": "stream",
     "text": [
      "Number of nodes in the last tree is: 1 with ccp_alpha: 0.1544159865479816\n"
     ]
    }
   ],
   "source": [
    "clfs = []\n",
    "for ccp_alpha in ccp_alphas:\n",
    "    clf = DecisionTreeClassifier(random_state=0, ccp_alpha=ccp_alpha)\n",
    "    clf.fit(X_train, y_train)\n",
    "    clfs.append(clf)\n",
    "print(\"Number of nodes in the last tree is: {} with ccp_alpha: {}\".format(\n",
    "      clfs[-1].tree_.node_count, ccp_alphas[-1]))"
   ]
  },
  {
   "cell_type": "markdown",
   "metadata": {
    "id": "tW-1uafhZajN"
   },
   "source": [
    "Now, we remove the last element in ``clfs`` and ``ccp_alphas``, because it is the trivial tree with only one node.\n",
    "\n",
    "\n",
    "Here we show that the number of nodes and tree depth decreases as alpha increases."
   ]
  },
  {
   "cell_type": "code",
   "execution_count": 251,
   "metadata": {
    "id": "9TBgdT7sZajO",
    "outputId": "1fa4b095-1509-4d15-e168-5034c24e807e"
   },
   "outputs": [
    {
     "data": {
      "image/png": "[encoded data removed]",
      "text/plain": [
       "<Figure size 720x720 with 2 Axes>"
      ]
     },
     "metadata": {
      "needs_background": "light"
     },
     "output_type": "display_data"
    }
   ],
   "source": [
    "clfs = clfs[:-1]\n",
    "ccp_alphas = ccp_alphas[:-1]\n",
    "\n",
    "node_counts = [clf.tree_.node_count for clf in clfs]\n",
    "depth = [clf.tree_.max_depth for clf in clfs]\n",
    "\n",
    "fig, ax = plt.subplots(2, 1,figsize=(10,10))\n",
    "ax[0].plot(ccp_alphas, node_counts, marker='o', drawstyle=\"steps-post\")\n",
    "ax[0].set_xlabel(\"alpha\")\n",
    "ax[0].set_ylabel(\"number of nodes\")\n",
    "ax[0].set_title(\"Number of nodes vs alpha\")\n",
    "\n",
    "ax[1].plot(ccp_alphas, depth, marker='o', drawstyle=\"steps-post\")\n",
    "ax[1].set_xlabel(\"alpha\")\n",
    "ax[1].set_ylabel(\"depth of tree\")\n",
    "ax[1].set_title(\"Depth vs alpha\")\n",
    "fig.tight_layout()"
   ]
  },
  {
   "cell_type": "code",
   "execution_count": 252,
   "metadata": {
    "id": "UDS2Pt2yZajQ",
    "outputId": "16483dfd-56f4-4a86-cdf5-c2378f8857df"
   },
   "outputs": [
    {
     "data": {
      "image/png": "[encoded data removed]",
      "text/plain": [
       "<Figure size 720x720 with 1 Axes>"
      ]
     },
     "metadata": {
      "needs_background": "light"
     },
     "output_type": "display_data"
    }
   ],
   "source": [
    "train_scores = [clf.score(X_train, y_train) for clf in clfs]\n",
    "test_scores = [clf.score(X_test, y_test) for clf in clfs]\n",
    "\n",
    "fig, ax = plt.subplots(figsize=(10,10))\n",
    "ax.set_xlabel(\"alpha\")\n",
    "ax.set_ylabel(\"accuracy\")\n",
    "ax.set_title(\"Accuracy vs alpha for training and testing sets\")\n",
    "ax.plot(ccp_alphas, train_scores, marker='o', label=\"train\",\n",
    "        drawstyle=\"steps-post\")\n",
    "ax.plot(ccp_alphas, test_scores, marker='o', label=\"test\",\n",
    "        drawstyle=\"steps-post\")\n",
    "ax.legend()\n",
    "plt.show()"
   ]
  },
  {
   "cell_type": "markdown",
   "metadata": {
    "id": "26fcP9JaZajV"
   },
   "source": [
    "* As we can see, When ``ccp_alpha`` is set to ``zero`` and keeping the other default parameters of DecisionTreeClassifier, the tree overfits, leading to a ``97.5%`` training accuracy and ``80%`` testing accuracy.\n",
    "\n",
    "\n",
    "* As alpha increases, more of the tree is pruned, thus creating a decision tree that generalizes better.Setting ``ccp_alpha=8.70266265e-05`` maximizes the testing accuracy"
   ]
  },
  {
   "cell_type": "markdown",
   "metadata": {},
   "source": [
    "# Random Forests"
   ]
  },
  {
   "cell_type": "markdown",
   "metadata": {},
   "source": [
    "<img src =\"https://i.ytimg.com/vi/goPiwckWE9M/maxresdefault.jpg\">"
   ]
  },
  {
   "cell_type": "markdown",
   "metadata": {
    "id": "E1b4H4YRZajX"
   },
   "source": [
    "# Decision Tree Pros and Cons"
   ]
  },
  {
   "cell_type": "markdown",
   "metadata": {
    "id": "Y3EbtV9bZajY"
   },
   "source": [
    "\n",
    "| Pros | Cons\n",
    "| --- | --- \n",
    "|Easy to interpret and visualize.| Sensitive to noisy data. It can overfit noisy data.\n",
    "|Has no assumptions about distribution because of the non-parametric nature of the algorithm.|The small variation(or variance) in data can result in the different decision tree. This can be reduced by bagging and boosting algorithms.\n",
    "|Can easily capture Non-linear patterns.|Biased with imbalance dataset, so it is recommended that balance out the dataset before creating the decision tree.\n",
    "|It requires fewer data preprocessing from the user, for example, there is no need to normalize columns.|Greedy algorithms don’t yield the global optimum tree structure.\n",
    "|It can be used for feature engineering such as predicting missing values, suitable for variable selection.| As the branching goes deeper, you get exponentially less data.\n",
    "|It has no problem whether the inputs and outputs are binary, categorical or continuous"
   ]
  }
 ],
 "metadata": {
  "colab": {
   "collapsed_sections": [
    "NPpBYbohZahG",
    "FXNP_SjRZah8",
    "sTU_40txZaiA",
    "4mvofbuTZaiD",
    "3QxYp5PzZaiM",
    "sr7KLqdWZaiV",
    "cdl1AO03ZajB"
   ],
   "name": "Lab 5 - Decision Trees.ipynb",
   "provenance": [],
   "toc_visible": true
  },
  "kernelspec": {
   "display_name": "Python 3",
   "language": "python",
   "name": "python3"
  },
  "language_info": {
   "codemirror_mode": {
    "name": "ipython",
    "version": 3
   },
   "file_extension": ".py",
   "mimetype": "text/x-python",
   "name": "python",
   "nbconvert_exporter": "python",
   "pygments_lexer": "ipython3",
   "version": "3.8.10"
  }
 },
 "nbformat": 4,
 "nbformat_minor": 1
}
