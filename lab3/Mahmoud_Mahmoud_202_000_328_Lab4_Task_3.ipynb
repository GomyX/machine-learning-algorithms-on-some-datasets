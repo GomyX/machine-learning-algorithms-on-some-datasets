{
  "nbformat": 4,
  "nbformat_minor": 0,
  "metadata": {
    "colab": {
      "provenance": []
    },
    "kernelspec": {
      "name": "python3",
      "display_name": "Python 3"
    },
    "language_info": {
      "name": "python"
    }
  },
  "cells": [
    {
      "cell_type": "markdown",
      "source": [
        "\n",
        "#1-Generate a sample by equation\n",
        "\n",
        "\n",
        "> *y=w1X1+w2X2+....+b*\n",
        "\n",
        "\n",
        "\n",
        "\n",
        "\n",
        "#2-Generate random number for Xs\n",
        "\n",
        "#3-Apply Linear Regression\n",
        "\n",
        "#4-Proof the same equatio will return using generated sample datasets\n",
        "\n"
      ],
      "metadata": {
        "id": "2JdegCfYrwFQ"
      }
    },
    {
      "cell_type": "markdown",
      "source": [],
      "metadata": {
        "id": "eIKK7xNy6xvf"
      }
    },
    {
      "cell_type": "code",
      "source": [
        "import random\n",
        "import numpy as np\n",
        "\n",
        "x1 = []\n",
        "x2 = []\n",
        "w1 = [[0.5]]\n",
        "w2= [[.6]]\n",
        "w1 = np.array(w1)\n",
        "w2 = np.array(w2)\n",
        "noise = []\n",
        "\n",
        "for i in range (100):\n",
        "  x1.append([random.randint(0,9)])\n",
        "  x2.append([random.randint(0,9)])\n",
        "  noise.append([random.randint(-9,4)])\n",
        "noise"
      ],
      "metadata": {
        "id": "3qCcpbhKtugj",
        "colab": {
          "base_uri": "https://localhost:8080/"
        },
        "outputId": "e985faee-dcc9-4967-fad5-4c8efc7b5724"
      },
      "execution_count": null,
      "outputs": [
        {
          "output_type": "execute_result",
          "data": {
            "text/plain": [
              "[[0],\n",
              " [1],\n",
              " [0],\n",
              " [3],\n",
              " [2],\n",
              " [-9],\n",
              " [1],\n",
              " [2],\n",
              " [-9],\n",
              " [-7],\n",
              " [1],\n",
              " [0],\n",
              " [0],\n",
              " [1],\n",
              " [-1],\n",
              " [-7],\n",
              " [2],\n",
              " [4],\n",
              " [-6],\n",
              " [2],\n",
              " [-7],\n",
              " [-2],\n",
              " [3],\n",
              " [-4],\n",
              " [4],\n",
              " [3],\n",
              " [3],\n",
              " [4],\n",
              " [1],\n",
              " [2],\n",
              " [-7],\n",
              " [-2],\n",
              " [-3],\n",
              " [-1],\n",
              " [-3],\n",
              " [-6],\n",
              " [3],\n",
              " [2],\n",
              " [-7],\n",
              " [-8],\n",
              " [1],\n",
              " [2],\n",
              " [-7],\n",
              " [-5],\n",
              " [3],\n",
              " [-8],\n",
              " [-6],\n",
              " [1],\n",
              " [-2],\n",
              " [4],\n",
              " [-6],\n",
              " [-1],\n",
              " [-7],\n",
              " [4],\n",
              " [-5],\n",
              " [0],\n",
              " [-6],\n",
              " [-9],\n",
              " [-4],\n",
              " [-4],\n",
              " [0],\n",
              " [2],\n",
              " [-6],\n",
              " [3],\n",
              " [1],\n",
              " [0],\n",
              " [2],\n",
              " [-3],\n",
              " [0],\n",
              " [-3],\n",
              " [1],\n",
              " [-2],\n",
              " [4],\n",
              " [3],\n",
              " [2],\n",
              " [3],\n",
              " [3],\n",
              " [-1],\n",
              " [-7],\n",
              " [-5],\n",
              " [1],\n",
              " [0],\n",
              " [1],\n",
              " [-3],\n",
              " [-5],\n",
              " [-8],\n",
              " [-1],\n",
              " [-8],\n",
              " [3],\n",
              " [0],\n",
              " [3],\n",
              " [1],\n",
              " [3],\n",
              " [0],\n",
              " [2],\n",
              " [-8],\n",
              " [2],\n",
              " [2],\n",
              " [-2],\n",
              " [-7]]"
            ]
          },
          "metadata": {},
          "execution_count": 93
        }
      ]
    },
    {
      "cell_type": "code",
      "source": [
        "from numpy.core.numeric import ones\n",
        "x1=np.array(x1)\n",
        "x2=np.array(x2)\n",
        "y_1D =np.matmul(x1,w1)\n",
        "ones=np.ones((100,1))\n",
        "\n",
        "#z=np.append(ones,x1,1)\n",
        "z1=x1"
      ],
      "metadata": {
        "id": "2V73Z9HF17XK"
      },
      "execution_count": null,
      "outputs": []
    },
    {
      "cell_type": "markdown",
      "source": [
        "#Apply that Algorithm for 1 D , 2 D hyper plain\n"
      ],
      "metadata": {
        "id": "B1Nl5K77rol_"
      }
    },
    {
      "cell_type": "code",
      "source": [
        "W=np.matmul(np.matmul(np.linalg.inv(np.matmul(z1.transpose(),z1)),z1.transpose()),y_1D)\n",
        "print(W)\n",
        "noise = np.array(noise)\n",
        "y_1D_n=y_1D+noise\n",
        "\n",
        "W=np.matmul(np.matmul(np.linalg.inv(np.matmul(z1.transpose(),z1)),z1.transpose()),y_1D_n)\n",
        "print(W)"
      ],
      "metadata": {
        "id": "qxErm2Votteb",
        "colab": {
          "base_uri": "https://localhost:8080/"
        },
        "outputId": "b7266adb-bc88-4c8e-c6aa-fec52c847fef"
      },
      "execution_count": null,
      "outputs": [
        {
          "output_type": "stream",
          "name": "stdout",
          "text": [
            "[[0.5]]\n",
            "[[0.32475884]]\n"
          ]
        }
      ]
    },
    {
      "cell_type": "code",
      "source": [
        "X = np.append(x1,x2,1)\n",
        "w12 = np.append(w1,w2,1)\n",
        "w12.shape\n",
        "y_2D = np.matmul(X,w12.transpose())\n",
        "z2=X\n",
        "\n",
        "noise = np.array(noise)\n",
        "y_2D_n=y_2D+noise\n",
        "W=np.matmul(np.matmul(np.linalg.inv(np.matmul(z2.transpose(),z2)),z2.transpose()),y_2D) #without noise\n",
        "print(W)\n",
        "W=np.matmul(np.matmul(np.linalg.inv(np.matmul(z2.transpose(),z2)),z2.transpose()),y_2D_n) #with noise\n",
        "print(W)"
      ],
      "metadata": {
        "id": "Fwhyy5aOttj9",
        "colab": {
          "base_uri": "https://localhost:8080/"
        },
        "outputId": "b8d9b553-ed4e-450e-c399-d1cc2e002509"
      },
      "execution_count": null,
      "outputs": [
        {
          "output_type": "stream",
          "name": "stdout",
          "text": [
            "[[0.5]\n",
            " [0.6]]\n",
            "[[0.36043653]\n",
            " [0.52387965]]\n"
          ]
        }
      ]
    },
    {
      "cell_type": "markdown",
      "source": [
        "because of the noise added to the y(the original equation of the plane ->and it causes the weights to move slightly around the original weights and this is predicted\n"
      ],
      "metadata": {
        "id": "qCpzfKX_DF8P"
      }
    },
    {
      "cell_type": "markdown",
      "source": [
        "##Refrences\n",
        "\n",
        "https://machinelearningmastery.com/linear-regression-for-machine-learning/\n",
        "\n",
        "https://towardsdatascience.com/linear-regression-derivation-d362ea3884c2\n",
        "\n"
      ],
      "metadata": {
        "id": "OboYZYGvv6UZ"
      }
    }
  ]
}