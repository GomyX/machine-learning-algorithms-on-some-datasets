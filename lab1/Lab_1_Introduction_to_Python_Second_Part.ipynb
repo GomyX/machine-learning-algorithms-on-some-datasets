{
 "cells": [
  {
   "cell_type": "markdown",
   "metadata": {
    "id": "HHHKaBUGznkB"
   },
   "source": [
    "# **Numpy**\n",
    "Numpy is a powerful library for scientific computation in Python. Its main object is a multi-dimensional array of **numbers** and it provides fast routines for mathematical operations, sorting, selection, shape manipulation, linear algebra and statistical simulation. <br>\n",
    "More on Numpy: https://www.w3schools.com/python/numpy/default.asp"
   ]
  },
  {
   "cell_type": "markdown",
   "metadata": {},
   "source": [
    "## Why Numpy?"
   ]
  },
  {
   "cell_type": "markdown",
   "metadata": {
    "id": "BtjPOSbY4UdR"
   },
   "source": [
    "Let us try to write a code which multiplies the corresponding elements in 2 lists in native python"
   ]
  },
  {
   "cell_type": "code",
   "execution_count": 24,
   "metadata": {
    "colab": {
     "base_uri": "https://localhost:8080/",
     "height": 36
    },
    "id": "Q_D79hF149_s",
    "outputId": "edd9435a-ed85-4713-8610-e33b51f56c0b"
   },
   "outputs": [
    {
     "name": "stdout",
     "output_type": "stream",
     "text": [
      "[4, 10, 18]\n"
     ]
    }
   ],
   "source": [
    "# multiply the corresponding elements in 2 lists\n",
    "bar = [1,2,3]\n",
    "foo = [4,5,6]\n",
    "barfoo = []\n",
    "for i in range(len(bar)):\n",
    "    barfoo.append(bar[i]*foo[i])\n",
    "print(barfoo)"
   ]
  },
  {
   "cell_type": "markdown",
   "metadata": {
    "id": "VNjeBFX64fQs"
   },
   "source": [
    "The above example is very inefficient as the multiplications are done sequentially. Numpy does the multiplications in parallel at near C speeds."
   ]
  },
  {
   "cell_type": "code",
   "execution_count": 25,
   "metadata": {
    "colab": {
     "base_uri": "https://localhost:8080/",
     "height": 36
    },
    "id": "iosxrsSO5nbi",
    "outputId": "7aa4ed2e-03d8-46d0-f2c9-99b8df57d36c"
   },
   "outputs": [
    {
     "name": "stdout",
     "output_type": "stream",
     "text": [
      "[ 4 10 18]\n"
     ]
    }
   ],
   "source": [
    "import numpy as np\n",
    "bar = np.array([1,2,3])\n",
    "foo = np.array([4,5,6])\n",
    "barfoo = bar*foo\n",
    "print(barfoo)"
   ]
  },
  {
   "cell_type": "markdown",
   "metadata": {
    "id": "Im7jhFtW55YZ"
   },
   "source": [
    "Let us try to time both codes for 2 large arrays using Python built-in time library"
   ]
  },
  {
   "cell_type": "code",
   "execution_count": 26,
   "metadata": {},
   "outputs": [],
   "source": [
    "#import libraries\n",
    "from time import time\n",
    "import numpy as np\n",
    "\n",
    "bar = list(range(1,100000))\n",
    "foo = list(range(1,100000))"
   ]
  },
  {
   "cell_type": "code",
   "execution_count": 28,
   "metadata": {
    "colab": {
     "base_uri": "https://localhost:8080/",
     "height": 54
    },
    "id": "w4mvXFJ75_o6",
    "outputId": "ed09fd63-2884-4f25-a359-079db9d72ec3"
   },
   "outputs": [
    {
     "name": "stdout",
     "output_type": "stream",
     "text": [
      "Elapsed time in case of Looping: 22.93705940246582 ms\n",
      "Elapsed time using NumPy: 1.4324188232421875 ms\n"
     ]
    }
   ],
   "source": [
    "#normal approach\n",
    "barfoo = []\n",
    "start = time()\n",
    "for i in range(len(bar)):\n",
    "    barfoo.append(bar[i]*foo[i])\n",
    "end = time()\n",
    "print('Elapsed time in case of Looping:',1000*(end-start),'ms')\n",
    "\n",
    "#numpy approach\n",
    "bar = np.array(bar)\n",
    "foo = np.array(foo)\n",
    "start = time()  \n",
    "barfoo = bar*foo\n",
    "end = time()\n",
    "print('Elapsed time using NumPy:',1000*(end-start),'ms')"
   ]
  },
  {
   "cell_type": "markdown",
   "metadata": {
    "id": "wMb5jsZU-CKf"
   },
   "source": [
    "## **Array Creation & Manipulation**"
   ]
  },
  {
   "cell_type": "code",
   "execution_count": 13,
   "metadata": {
    "id": "aCylwALk-BuH"
   },
   "outputs": [
    {
     "name": "stdout",
     "output_type": "stream",
     "text": [
      "[4 1 3] <class 'numpy.ndarray'>\n",
      "[[1. 2. 3.]\n",
      " [4. 5. 6.]] <class 'numpy.ndarray'>\n"
     ]
    }
   ],
   "source": [
    "import numpy as np\n",
    "a = np.array([4,1,3]) \n",
    "print(a,type(a))\n",
    "\n",
    "a = np.array([[1,2,3],[4,5,6]], dtype='float') #choose the data type\n",
    "print(a,type(a)) "
   ]
  },
  {
   "cell_type": "code",
   "execution_count": 36,
   "metadata": {},
   "outputs": [
    {
     "name": "stdout",
     "output_type": "stream",
     "text": [
      "[  0.          11.11111111  22.22222222  33.33333333  44.44444444\n",
      "  55.55555556  66.66666667  77.77777778  88.88888889 100.        ]\n",
      "[ 0 10 20 30 40 50 60 70 80 90]\n"
     ]
    }
   ],
   "source": [
    "a = np.linspace(0,100, 10) #evenly spaced\n",
    "print(a)\n",
    "\n",
    "a = np.arange(0,100,10) #evenly spaced with a step size\n",
    "print(a) "
   ]
  },
  {
   "cell_type": "code",
   "execution_count": 37,
   "metadata": {},
   "outputs": [
    {
     "name": "stdout",
     "output_type": "stream",
     "text": [
      "[[0 0 0 0 0]\n",
      " [0 0 0 0 0]\n",
      " [0 0 0 0 0]]\n",
      "[[1. 1. 1. 1.]\n",
      " [1. 1. 1. 1.]]\n"
     ]
    }
   ],
   "source": [
    "a = np.zeros((3,5),dtype='int') #array of zeros\n",
    "print(a)\n",
    "\n",
    "a = np.ones((2,4),dtype='float') #array of ones\n",
    "print(a)"
   ]
  },
  {
   "cell_type": "code",
   "execution_count": 29,
   "metadata": {},
   "outputs": [
    {
     "name": "stdout",
     "output_type": "stream",
     "text": [
      "[[2.12199579e-314 1.02360935e-306 3.83394941e-321 1.61611199e-310]]\n",
      "[[1. 0. 0.]\n",
      " [0. 1. 0.]\n",
      " [0. 0. 1.]]\n"
     ]
    }
   ],
   "source": [
    "a = np.empty((1,4)) #array with uninitialized values\n",
    "print(a)\n",
    "\n",
    "a = np.eye(3) #matrix\n",
    "print(a)"
   ]
  },
  {
   "cell_type": "markdown",
   "metadata": {
    "id": "qON_5o-o8Dvz"
   },
   "source": [
    "### **Numpy arrays have 6 attributes:**\n",
    "\n",
    "\n",
    "*   **shape** is the dimensions of the array.\n",
    "*   **ndim** is the number of dimensions of the array.\n",
    "*   **size** is the number of elements in the array.\n",
    "*   **dtype** is the type of elements in the array\n",
    "*   **itemsize** is the size of an element in the array in bytes\n",
    "*   **data** is a buffer which contains the elements of the array. But, this attribute is rarely used as we access array elements using indexing\n",
    "\n"
   ]
  },
  {
   "cell_type": "code",
   "execution_count": 19,
   "metadata": {
    "colab": {
     "base_uri": "https://localhost:8080/",
     "height": 148
    },
    "id": "ouusZi8y8Y9_",
    "outputId": "50f89fd3-4a0d-460c-870a-91f37b55f4b9"
   },
   "outputs": [
    {
     "name": "stdout",
     "output_type": "stream",
     "text": [
      "[ 2  3  4  5  6  7  8  9 10 11]\n",
      "(10,)\n",
      "1\n",
      "10\n",
      "4\n",
      "int32\n",
      "3\n"
     ]
    }
   ],
   "source": [
    "a = np.arange(2,12,1)\n",
    "print(a)\n",
    "\n",
    "print(a.shape)\n",
    "print(a.ndim)\n",
    "print(a.size) #number of elements in array\n",
    "print(a.itemsize) #the memory usage of each element in bytes\n",
    "print(a.dtype)\n",
    "print(a.data[1])"
   ]
  },
  {
   "cell_type": "markdown",
   "metadata": {
    "id": "7vEWgtpvo7Hx"
   },
   "source": [
    "**Indexing Numpy Arrays is so similar to MATLAB**"
   ]
  },
  {
   "cell_type": "code",
   "execution_count": 70,
   "metadata": {
    "id": "dlm4T6FAo97Q"
   },
   "outputs": [
    {
     "name": "stdout",
     "output_type": "stream",
     "text": [
      "3\n",
      "3\n",
      "[2 1 2]\n",
      "[4 2 4]\n"
     ]
    }
   ],
   "source": [
    "a = np.array([[4,3,1],[2,1,2],[4,7,3]])\n",
    "'''\n",
    "4 3 1 \n",
    "2 1 2\n",
    "4 7 3\n",
    "'''\n",
    "print(a[0,1])\n",
    "print(a[0][1])\n",
    "\n",
    "print(a[1,:])\n",
    "print(a[:,0])"
   ]
  },
  {
   "cell_type": "code",
   "execution_count": 47,
   "metadata": {},
   "outputs": [
    {
     "name": "stdout",
     "output_type": "stream",
     "text": [
      "[[4 3]\n",
      " [2 1]\n",
      " [4 7]]\n"
     ]
    }
   ],
   "source": [
    "ix = np.array([1,1,0],dtype='bool')\n",
    "print(a[:,ix]) # supports logical indexing (it comes in handy in plenty of situations)"
   ]
  },
  {
   "cell_type": "markdown",
   "metadata": {
    "id": "R-5ueeVh7F-Q"
   },
   "source": [
    "**Arithmetic operators on arrays apply element-wise**"
   ]
  },
  {
   "cell_type": "code",
   "execution_count": 48,
   "metadata": {
    "colab": {
     "base_uri": "https://localhost:8080/",
     "height": 111
    },
    "id": "QYX-5Lps6MWS",
    "outputId": "7bbbfc47-d811-4b80-85c5-3df44b943b65"
   },
   "outputs": [
    {
     "name": "stdout",
     "output_type": "stream",
     "text": [
      "[-1 -2 -3]\n",
      "[3 6 9]\n",
      "[ 2  8 18]\n",
      "[  1  16 729]\n",
      "[0.5 0.5 0.5]\n"
     ]
    }
   ],
   "source": [
    "a = np.array([1,2,3])\n",
    "b = np.array([2,4,6])\n",
    "print(a-b)\n",
    "print(a+b)\n",
    "print(a*b)\n",
    "print(a**b)\n",
    "print(a/b)"
   ]
  },
  {
   "cell_type": "markdown",
   "metadata": {
    "id": "h-RfmYsrE2ns"
   },
   "source": [
    "**Arrays support many unary operations**"
   ]
  },
  {
   "cell_type": "code",
   "execution_count": 20,
   "metadata": {},
   "outputs": [
    {
     "name": "stdout",
     "output_type": "stream",
     "text": [
      "[ 0  2  4  6  8 10]\n"
     ]
    }
   ],
   "source": [
    "a = np.arange(0,11,2)\n",
    "print(a)"
   ]
  },
  {
   "cell_type": "code",
   "execution_count": 21,
   "metadata": {
    "colab": {
     "base_uri": "https://localhost:8080/",
     "height": 129
    },
    "id": "bQ55Tbs-E1_g",
    "outputId": "b66bade7-ff00-448c-cfca-e6b443388036"
   },
   "outputs": [
    {
     "name": "stdout",
     "output_type": "stream",
     "text": [
      "Sum of array elements:  30\n",
      "Array maximum:  10\n",
      "Array minimum:  0\n",
      "Array mean:  5.0\n"
     ]
    }
   ],
   "source": [
    "print('Sum of array elements: ',a.sum())\n",
    "print('Array maximum: ',a.max())\n",
    "print('Array minimum: ',a.min())\n",
    "print('Array mean: ',a.mean())"
   ]
  },
  {
   "cell_type": "markdown",
   "metadata": {
    "id": "kCmn6iw_GIUb"
   },
   "source": [
    "**Numpy supports universal functions that are applied element-wise to array elements**"
   ]
  },
  {
   "cell_type": "code",
   "execution_count": 22,
   "metadata": {
    "colab": {
     "base_uri": "https://localhost:8080/",
     "height": 167
    },
    "id": "evk2gabrGHor",
    "outputId": "a6cb8558-f7bc-4654-cb41-005b6e29d9e1"
   },
   "outputs": [
    {
     "name": "stdout",
     "output_type": "stream",
     "text": [
      "[ 1.          4.81047738 23.14069263]\n",
      "[0.0000000e+00 1.0000000e+00 1.2246468e-16]\n",
      "[ 1.000000e+00  6.123234e-17 -1.000000e+00]\n",
      "[1. 1. 1.]\n"
     ]
    }
   ],
   "source": [
    "a = np.array([0, np.pi/2, np.pi])\n",
    "print(np.exp(a))\n",
    "print(np.sin(a))\n",
    "print(np.cos(a))\n",
    "print(np.sin(a)**2+np.cos(a)**2)"
   ]
  },
  {
   "cell_type": "markdown",
   "metadata": {
    "id": "fipWv9oqJWv5"
   },
   "source": [
    "**Shape Manipulation**\n",
    "\n",
    "*   **Reshape** function returns its argument with a modified shape\n",
    "*   **Resize** function modifies the array itself\n",
    "\n"
   ]
  },
  {
   "cell_type": "code",
   "execution_count": 81,
   "metadata": {
    "colab": {
     "base_uri": "https://localhost:8080/",
     "height": 148
    },
    "id": "RRU1LKlaJZPD",
    "outputId": "7a5e3032-7e69-4da2-ba49-591394c9d9f9"
   },
   "outputs": [
    {
     "name": "stdout",
     "output_type": "stream",
     "text": [
      "[[ 5  6  7  8  9]\n",
      " [10 11 12 13 14]\n",
      " [15 16 17 18 19]]\n",
      "[[ 5  6  7]\n",
      " [ 8  9 10]\n",
      " [11 12 13]\n",
      " [14 15 16]\n",
      " [17 18 19]]\n",
      "[ 5  6  7  8  9 10 11 12 13 14 15 16 17 18 19]\n"
     ]
    }
   ],
   "source": [
    "#reshape\n",
    "a = np.arange(5,20,1)\n",
    "\n",
    "print(a.reshape(3,5))\n",
    "print(a.reshape(5,-1)) # using -1 in the shape tuple automatically calculates the other dimension\n",
    "print(a) # The array 'a' hasn't changed after calling reshape"
   ]
  },
  {
   "cell_type": "code",
   "execution_count": 23,
   "metadata": {},
   "outputs": [
    {
     "name": "stdout",
     "output_type": "stream",
     "text": [
      "None\n",
      "[[ 5  6  7  8  9]\n",
      " [10 11 12 13 14]\n",
      " [15 16 17 18 19]\n",
      " [ 0  0  0  0  0]]\n"
     ]
    }
   ],
   "source": [
    "#resize\n",
    "a = np.arange(5,20,1)\n",
    "print(a.resize(4,5))\n",
    "print(a) # The array 'a' changed after calling resize"
   ]
  },
  {
   "cell_type": "code",
   "execution_count": 89,
   "metadata": {},
   "outputs": [
    {
     "name": "stdout",
     "output_type": "stream",
     "text": [
      "[[ 5  6  7  8  9]\n",
      " [10 11 12 13 14]\n",
      " [15 16 17 18 19]]\n",
      "[[ 5 10 15]\n",
      " [ 6 11 16]\n",
      " [ 7 12 17]\n",
      " [ 8 13 18]\n",
      " [ 9 14 19]]\n"
     ]
    }
   ],
   "source": [
    "a = np.arange(5,20,1).reshape(3,5)\n",
    "print(a)\n",
    "print(a.T) #transpose the array a"
   ]
  },
  {
   "cell_type": "code",
   "execution_count": 93,
   "metadata": {},
   "outputs": [
    {
     "name": "stdout",
     "output_type": "stream",
     "text": [
      "[[ 5  6  7  8  9]\n",
      " [10 11 12 13 14]\n",
      " [15 16 17 18 19]]\n",
      "[ 5  6  7  8  9 10 11 12 13 14 15 16 17 18 19]\n"
     ]
    }
   ],
   "source": [
    "a = np.arange(5,20,1).reshape(3,5)\n",
    "print(a)\n",
    "print(a.ravel()) #concatenate all the elements"
   ]
  },
  {
   "cell_type": "markdown",
   "metadata": {
    "id": "Nno89r4jef0t"
   },
   "source": [
    "**Splitting and Stacking arrays**\n"
   ]
  },
  {
   "cell_type": "code",
   "execution_count": 99,
   "metadata": {
    "colab": {
     "base_uri": "https://localhost:8080/",
     "height": 111
    },
    "id": "Ogn4acv4k_na",
    "outputId": "a1318fb4-0ace-47f9-a837-a8ccdb842dd0"
   },
   "outputs": [
    {
     "name": "stdout",
     "output_type": "stream",
     "text": [
      "[[1. 1. 1. 1. 1. 0. 0. 0.]\n",
      " [1. 1. 1. 1. 1. 0. 0. 0.]] (2, 8)\n"
     ]
    }
   ],
   "source": [
    "a = np.ones((2,5))\n",
    "b = np.zeros((2,3))\n",
    "c = np.hstack((a,b)) # horizontally stacks the two arrays => # of rows must match\n",
    "print(c,c.shape)"
   ]
  },
  {
   "cell_type": "code",
   "execution_count": 100,
   "metadata": {},
   "outputs": [
    {
     "name": "stdout",
     "output_type": "stream",
     "text": [
      "[[ 1.  1.  1.  1.  1.  0.  0.  0.]\n",
      " [ 1.  1.  1.  1.  1.  0.  0.  0.]\n",
      " [-1. -1. -1. -1. -1. -1. -1. -1.]\n",
      " [-1. -1. -1. -1. -1. -1. -1. -1.]] (4, 8)\n"
     ]
    }
   ],
   "source": [
    "d = np.vstack((c,-np.ones((2,8)))) # vertically stacks the two arrays => # of columns must match\n",
    "print(d,d.shape)"
   ]
  },
  {
   "cell_type": "code",
   "execution_count": 103,
   "metadata": {
    "colab": {
     "base_uri": "https://localhost:8080/",
     "height": 92
    },
    "id": "v3_SthTemApQ",
    "outputId": "598ff0ce-1d2f-4f89-c7f6-8981ba2163b2"
   },
   "outputs": [
    {
     "name": "stdout",
     "output_type": "stream",
     "text": [
      "[[1. 1. 1. 1. 1. 0. 0. 0.]\n",
      " [1. 1. 1. 1. 1. 0. 0. 0.]]\n",
      "[[-1. -1. -1. -1. -1. -1. -1. -1.]\n",
      " [-1. -1. -1. -1. -1. -1. -1. -1.]]\n"
     ]
    }
   ],
   "source": [
    "c,x = np.vsplit(d,(2,)) # split the rows vertically after the 2nd row\n",
    "print(c)\n",
    "print(x)"
   ]
  },
  {
   "cell_type": "code",
   "execution_count": 104,
   "metadata": {},
   "outputs": [
    {
     "name": "stdout",
     "output_type": "stream",
     "text": [
      "[[1. 1. 1. 1. 1.]\n",
      " [1. 1. 1. 1. 1.]]\n",
      "[[0. 0. 0.]\n",
      " [0. 0. 0.]]\n"
     ]
    }
   ],
   "source": [
    "a,b = np.hsplit(c,(5,)) # split the columns horizontally after the 5th column\n",
    "print(a)\n",
    "print(b)"
   ]
  },
  {
   "cell_type": "markdown",
   "metadata": {
    "id": "7-lckitoqQnb"
   },
   "source": [
    "**Copying numpy arrays**"
   ]
  },
  {
   "cell_type": "code",
   "execution_count": 134,
   "metadata": {
    "colab": {
     "base_uri": "https://localhost:8080/",
     "height": 36
    },
    "id": "KwLojoIXqTXv",
    "outputId": "076c934a-e5ef-4da1-f8e5-fd941425ffbb"
   },
   "outputs": [
    {
     "name": "stdout",
     "output_type": "stream",
     "text": [
      "[[5. 1. 1.]\n",
      " [1. 1. 1.]]\n",
      "[[5. 1. 1.]\n",
      " [1. 1. 1.]]\n"
     ]
    }
   ],
   "source": [
    "a = np.ones((2,3))\n",
    "b = a # shallow copy\n",
    "b[0,0]= 5\n",
    "print(a)\n",
    "print(b)"
   ]
  },
  {
   "cell_type": "code",
   "execution_count": 135,
   "metadata": {
    "colab": {
     "base_uri": "https://localhost:8080/",
     "height": 73
    },
    "id": "Kzk-W1QZg-bi",
    "outputId": "0df8848e-8644-47fd-d695-442e05d419d4"
   },
   "outputs": [
    {
     "name": "stdout",
     "output_type": "stream",
     "text": [
      "[[1. 1. 1.]\n",
      " [1. 1. 1.]]\n",
      "[[0. 1. 1.]\n",
      " [1. 1. 1.]]\n"
     ]
    }
   ],
   "source": [
    "a = np.ones((2,3))\n",
    "b = a.copy() # deep copy\n",
    "b[0,0] = 0\n",
    "print(a)\n",
    "print(b)"
   ]
  },
  {
   "cell_type": "markdown",
   "metadata": {
    "id": "6RuJmO0s0I0X"
   },
   "source": [
    "# **Classes**\n",
    "As we have discussed, *everything* is an object in Python. Objects are, as you may know, instantiations of *classes* and, as you may have already guessed, you can indeed define your own classes.\n",
    "#### This section was prepared by Eng. Muhammad Al Aref"
   ]
  },
  {
   "cell_type": "code",
   "execution_count": 9,
   "metadata": {},
   "outputs": [],
   "source": [
    "class MyClass:\n",
    "      \n",
    "    class_variable = [1, 2, 3]\n",
    "    \n",
    "    def __init__(self):\n",
    "        print('I am the constructor!')\n",
    "        self.variable = 'I am an object variable'\n",
    "        self._variable = 'I am a private object variable'\n",
    "    \n",
    "    def my_method(self):\n",
    "        print('I am a method!')\n",
    "    \n",
    "    def my_returning_method(self, something):\n",
    "        return something\n",
    "    \n",
    "    def my_variable_returning_method(self):\n",
    "        return self._variable\n",
    "    \n",
    "    def _my_private_method(self):\n",
    "        print('I am a private method and I \"should\" not be called from outside the class')\n",
    "        \n",
    "    @classmethod\n",
    "    #a class method \"must\" take the class as an argument and usually does smth related to the class\n",
    "    def my_class_method(cls):\n",
    "        print('I am a class method and I implicitly get my class as my first argument:', cls)\n",
    "        \n",
    "    @staticmethod\n",
    "    #a static method is used for defining generic Python functions\n",
    "    def my_static_method():\n",
    "        print('I am a class method and I behave just like any normal method, just call me from my class!')"
   ]
  },
  {
   "cell_type": "code",
   "execution_count": 10,
   "metadata": {},
   "outputs": [
    {
     "name": "stdout",
     "output_type": "stream",
     "text": [
      "I am the constructor!\n",
      "<__main__.MyClass object at 0x000001F0A5FAC8E0>\n",
      "I am a method!\n",
      "None\n",
      "I am the something!\n",
      "I am a private object variable\n",
      "I am an object variable\n",
      "I am a private method and I \"should\" not be called from outside the class\n",
      "I am a private object variable\n",
      "[1, 2, 3]\n",
      "I am a class method and I implicitly get my class as my first argument: <class '__main__.MyClass'>\n",
      "I am a class method and I behave just like any normal method, just call me from my class!\n"
     ]
    }
   ],
   "source": [
    "#class initialization\n",
    "my_class_instance = MyClass()\n",
    "print(my_class_instance)\n",
    "\n",
    "#test methods\n",
    "print(my_class_instance.my_method())\n",
    "\n",
    "print(my_class_instance.my_returning_method('I am the something!'))\n",
    "\n",
    "print(my_class_instance.my_variable_returning_method())\n",
    "\n",
    "print(my_class_instance.variable)\n",
    "\n",
    "my_class_instance._my_private_method()  # while you can, you \"shouldn't\" do that\n",
    "\n",
    "print(my_class_instance._variable)   # again, you can but you shouldn't\n",
    "\n",
    "print(MyClass.class_variable)\n",
    "\n",
    "MyClass.my_class_method()             # you can it from my_class_instance as well, but... you shouldn't\n",
    "MyClass.my_static_method()            # again, you can it from my_class_instance as well, but?"
   ]
  },
  {
   "cell_type": "markdown",
   "metadata": {
    "id": "5BA6AXrFAXwf"
   },
   "source": [
    "## Inheritance\n",
    "\n",
    "A class can inherit from another class. In effect, that gives the *child* class all the functionality of the *parent* class. *Child* classes can *override* some of these functionalities if needed."
   ]
  },
  {
   "cell_type": "code",
   "execution_count": 5,
   "metadata": {
    "id": "3Px3cn54dBTx"
   },
   "outputs": [],
   "source": [
    "class MyOtherClass(MyClass):\n",
    "    \n",
    "    def my_method(self):\n",
    "            print(\"I am overriding my parent's method\")\n",
    "        \n",
    "    def my_brand_new_method(self):\n",
    "        print(\"I am not inherited\")"
   ]
  },
  {
   "cell_type": "code",
   "execution_count": 6,
   "metadata": {
    "colab": {
     "base_uri": "https://localhost:8080/",
     "height": 204
    },
    "id": "cOe_BW5QdBVt",
    "outputId": "0c9fdba1-3587-49e5-dfd7-130a7aa6ff56"
   },
   "outputs": [
    {
     "name": "stdout",
     "output_type": "stream",
     "text": [
      "I am the constructor!\n",
      "I am overriding my parent's method\n",
      "I am not inherited\n",
      "I am the something!\n",
      "I am a private object variable\n",
      "I am an object variable\n",
      "I am a class method and I implicitly get my class as my first argument: <class '__main__.MyOtherClass'>\n",
      "I am a class method and I behave just like any normal method, just call me from my class!\n"
     ]
    }
   ],
   "source": [
    "my_other_instance = MyOtherClass()\n",
    "my_other_instance.my_method()\n",
    "my_other_instance.my_brand_new_method()\n",
    "print(my_other_instance.my_returning_method('I am the something!'))\n",
    "print(my_other_instance.my_variable_returning_method())\n",
    "print(my_other_instance.variable)\n",
    "MyOtherClass.my_class_method()\n",
    "MyOtherClass.my_static_method()"
   ]
  },
  {
   "cell_type": "code",
   "execution_count": null,
   "metadata": {
    "id": "E-Hz6ar7VNn7"
   },
   "outputs": [],
   "source": []
  },
  {
   "cell_type": "code",
   "execution_count": null,
   "metadata": {},
   "outputs": [],
   "source": []
  }
 ],
 "metadata": {
  "colab": {
   "name": "Lab 1. Introduction to Python - Second Part.ipynb",
   "provenance": []
  },
  "kernelspec": {
   "display_name": "Python 3",
   "language": "python",
   "name": "python3"
  },
  "language_info": {
   "codemirror_mode": {
    "name": "ipython",
    "version": 3
   },
   "file_extension": ".py",
   "mimetype": "text/x-python",
   "name": "python",
   "nbconvert_exporter": "python",
   "pygments_lexer": "ipython3",
   "version": "3.8.8"
  }
 },
 "nbformat": 4,
 "nbformat_minor": 1
}
